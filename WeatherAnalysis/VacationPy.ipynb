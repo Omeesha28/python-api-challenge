{
 "cells": [
  {
   "cell_type": "markdown",
   "metadata": {},
   "source": [
    "# VacationPy\n",
    "---\n",
    "\n",
    "## Starter Code to Import Libraries and Load the Weather and Coordinates Data"
   ]
  },
  {
   "cell_type": "code",
   "execution_count": 1,
   "metadata": {},
   "outputs": [
    {
     "data": {
      "application/javascript": "(function(root) {\n  function now() {\n    return new Date();\n  }\n\n  var force = true;\n  var py_version = '3.2.1'.replace('rc', '-rc.').replace('.dev', '-dev.');\n  var is_dev = py_version.indexOf(\"+\") !== -1 || py_version.indexOf(\"-\") !== -1;\n  var reloading = false;\n  var Bokeh = root.Bokeh;\n  var bokeh_loaded = Bokeh != null && (Bokeh.version === py_version || (Bokeh.versions !== undefined && Bokeh.versions.has(py_version)));\n\n  if (typeof (root._bokeh_timeout) === \"undefined\" || force) {\n    root._bokeh_timeout = Date.now() + 5000;\n    root._bokeh_failed_load = false;\n  }\n\n  function run_callbacks() {\n    try {\n      root._bokeh_onload_callbacks.forEach(function(callback) {\n        if (callback != null)\n          callback();\n      });\n    } finally {\n      delete root._bokeh_onload_callbacks;\n    }\n    console.debug(\"Bokeh: all callbacks have finished\");\n  }\n\n  function load_libs(css_urls, js_urls, js_modules, js_exports, callback) {\n    if (css_urls == null) css_urls = [];\n    if (js_urls == null) js_urls = [];\n    if (js_modules == null) js_modules = [];\n    if (js_exports == null) js_exports = {};\n\n    root._bokeh_onload_callbacks.push(callback);\n\n    if (root._bokeh_is_loading > 0) {\n      console.debug(\"Bokeh: BokehJS is being loaded, scheduling callback at\", now());\n      return null;\n    }\n    if (js_urls.length === 0 && js_modules.length === 0 && Object.keys(js_exports).length === 0) {\n      run_callbacks();\n      return null;\n    }\n    if (!reloading) {\n      console.debug(\"Bokeh: BokehJS not loaded, scheduling load and callback at\", now());\n    }\n\n    function on_load() {\n      root._bokeh_is_loading--;\n      if (root._bokeh_is_loading === 0) {\n        console.debug(\"Bokeh: all BokehJS libraries/stylesheets loaded\");\n        run_callbacks()\n      }\n    }\n    window._bokeh_on_load = on_load\n\n    function on_error() {\n      console.error(\"failed to load \" + url);\n    }\n\n    var skip = [];\n    if (window.requirejs) {\n      window.requirejs.config({'packages': {}, 'paths': {'jspanel': 'https://cdn.jsdelivr.net/npm/jspanel4@4.12.0/dist/jspanel', 'jspanel-modal': 'https://cdn.jsdelivr.net/npm/jspanel4@4.12.0/dist/extensions/modal/jspanel.modal', 'jspanel-tooltip': 'https://cdn.jsdelivr.net/npm/jspanel4@4.12.0/dist/extensions/tooltip/jspanel.tooltip', 'jspanel-hint': 'https://cdn.jsdelivr.net/npm/jspanel4@4.12.0/dist/extensions/hint/jspanel.hint', 'jspanel-layout': 'https://cdn.jsdelivr.net/npm/jspanel4@4.12.0/dist/extensions/layout/jspanel.layout', 'jspanel-contextmenu': 'https://cdn.jsdelivr.net/npm/jspanel4@4.12.0/dist/extensions/contextmenu/jspanel.contextmenu', 'jspanel-dock': 'https://cdn.jsdelivr.net/npm/jspanel4@4.12.0/dist/extensions/dock/jspanel.dock', 'gridstack': 'https://cdn.jsdelivr.net/npm/gridstack@7.2.3/dist/gridstack-all', 'notyf': 'https://cdn.jsdelivr.net/npm/notyf@3/notyf.min'}, 'shim': {'jspanel': {'exports': 'jsPanel'}, 'gridstack': {'exports': 'GridStack'}}});\n      require([\"jspanel\"], function(jsPanel) {\n\twindow.jsPanel = jsPanel\n\ton_load()\n      })\n      require([\"jspanel-modal\"], function() {\n\ton_load()\n      })\n      require([\"jspanel-tooltip\"], function() {\n\ton_load()\n      })\n      require([\"jspanel-hint\"], function() {\n\ton_load()\n      })\n      require([\"jspanel-layout\"], function() {\n\ton_load()\n      })\n      require([\"jspanel-contextmenu\"], function() {\n\ton_load()\n      })\n      require([\"jspanel-dock\"], function() {\n\ton_load()\n      })\n      require([\"gridstack\"], function(GridStack) {\n\twindow.GridStack = GridStack\n\ton_load()\n      })\n      require([\"notyf\"], function() {\n\ton_load()\n      })\n      root._bokeh_is_loading = css_urls.length + 9;\n    } else {\n      root._bokeh_is_loading = css_urls.length + js_urls.length + js_modules.length + Object.keys(js_exports).length;\n    }\n\n    var existing_stylesheets = []\n    var links = document.getElementsByTagName('link')\n    for (var i = 0; i < links.length; i++) {\n      var link = links[i]\n      if (link.href != null) {\n\texisting_stylesheets.push(link.href)\n      }\n    }\n    for (var i = 0; i < css_urls.length; i++) {\n      var url = css_urls[i];\n      if (existing_stylesheets.indexOf(url) !== -1) {\n\ton_load()\n\tcontinue;\n      }\n      const element = document.createElement(\"link\");\n      element.onload = on_load;\n      element.onerror = on_error;\n      element.rel = \"stylesheet\";\n      element.type = \"text/css\";\n      element.href = url;\n      console.debug(\"Bokeh: injecting link tag for BokehJS stylesheet: \", url);\n      document.body.appendChild(element);\n    }    if (((window['jsPanel'] !== undefined) && (!(window['jsPanel'] instanceof HTMLElement))) || window.requirejs) {\n      var urls = ['https://cdn.holoviz.org/panel/1.2.3/dist/bundled/floatpanel/jspanel4@4.12.0/dist/jspanel.js', 'https://cdn.holoviz.org/panel/1.2.3/dist/bundled/floatpanel/jspanel4@4.12.0/dist/extensions/modal/jspanel.modal.js', 'https://cdn.holoviz.org/panel/1.2.3/dist/bundled/floatpanel/jspanel4@4.12.0/dist/extensions/tooltip/jspanel.tooltip.js', 'https://cdn.holoviz.org/panel/1.2.3/dist/bundled/floatpanel/jspanel4@4.12.0/dist/extensions/hint/jspanel.hint.js', 'https://cdn.holoviz.org/panel/1.2.3/dist/bundled/floatpanel/jspanel4@4.12.0/dist/extensions/layout/jspanel.layout.js', 'https://cdn.holoviz.org/panel/1.2.3/dist/bundled/floatpanel/jspanel4@4.12.0/dist/extensions/contextmenu/jspanel.contextmenu.js', 'https://cdn.holoviz.org/panel/1.2.3/dist/bundled/floatpanel/jspanel4@4.12.0/dist/extensions/dock/jspanel.dock.js'];\n      for (var i = 0; i < urls.length; i++) {\n        skip.push(urls[i])\n      }\n    }    if (((window['GridStack'] !== undefined) && (!(window['GridStack'] instanceof HTMLElement))) || window.requirejs) {\n      var urls = ['https://cdn.holoviz.org/panel/1.2.3/dist/bundled/gridstack/gridstack@7.2.3/dist/gridstack-all.js'];\n      for (var i = 0; i < urls.length; i++) {\n        skip.push(urls[i])\n      }\n    }    if (((window['Notyf'] !== undefined) && (!(window['Notyf'] instanceof HTMLElement))) || window.requirejs) {\n      var urls = ['https://cdn.holoviz.org/panel/1.2.3/dist/bundled/notificationarea/notyf@3/notyf.min.js'];\n      for (var i = 0; i < urls.length; i++) {\n        skip.push(urls[i])\n      }\n    }    var existing_scripts = []\n    var scripts = document.getElementsByTagName('script')\n    for (var i = 0; i < scripts.length; i++) {\n      var script = scripts[i]\n      if (script.src != null) {\n\texisting_scripts.push(script.src)\n      }\n    }\n    for (var i = 0; i < js_urls.length; i++) {\n      var url = js_urls[i];\n      if (skip.indexOf(url) !== -1 || existing_scripts.indexOf(url) !== -1) {\n\tif (!window.requirejs) {\n\t  on_load();\n\t}\n\tcontinue;\n      }\n      var element = document.createElement('script');\n      element.onload = on_load;\n      element.onerror = on_error;\n      element.async = false;\n      element.src = url;\n      console.debug(\"Bokeh: injecting script tag for BokehJS library: \", url);\n      document.head.appendChild(element);\n    }\n    for (var i = 0; i < js_modules.length; i++) {\n      var url = js_modules[i];\n      if (skip.indexOf(url) !== -1 || existing_scripts.indexOf(url) !== -1) {\n\tif (!window.requirejs) {\n\t  on_load();\n\t}\n\tcontinue;\n      }\n      var element = document.createElement('script');\n      element.onload = on_load;\n      element.onerror = on_error;\n      element.async = false;\n      element.src = url;\n      element.type = \"module\";\n      console.debug(\"Bokeh: injecting script tag for BokehJS library: \", url);\n      document.head.appendChild(element);\n    }\n    for (const name in js_exports) {\n      var url = js_exports[name];\n      if (skip.indexOf(url) >= 0 || root[name] != null) {\n\tif (!window.requirejs) {\n\t  on_load();\n\t}\n\tcontinue;\n      }\n      var element = document.createElement('script');\n      element.onerror = on_error;\n      element.async = false;\n      element.type = \"module\";\n      console.debug(\"Bokeh: injecting script tag for BokehJS library: \", url);\n      element.textContent = `\n      import ${name} from \"${url}\"\n      window.${name} = ${name}\n      window._bokeh_on_load()\n      `\n      document.head.appendChild(element);\n    }\n    if (!js_urls.length && !js_modules.length) {\n      on_load()\n    }\n  };\n\n  function inject_raw_css(css) {\n    const element = document.createElement(\"style\");\n    element.appendChild(document.createTextNode(css));\n    document.body.appendChild(element);\n  }\n\n  var js_urls = [\"https://cdn.bokeh.org/bokeh/release/bokeh-3.2.1.min.js\", \"https://cdn.bokeh.org/bokeh/release/bokeh-gl-3.2.1.min.js\", \"https://cdn.bokeh.org/bokeh/release/bokeh-widgets-3.2.1.min.js\", \"https://cdn.bokeh.org/bokeh/release/bokeh-tables-3.2.1.min.js\", \"https://cdn.holoviz.org/panel/1.2.3/dist/panel.min.js\"];\n  var js_modules = [];\n  var js_exports = {};\n  var css_urls = [];\n  var inline_js = [    function(Bokeh) {\n      Bokeh.set_log_level(\"info\");\n    },\nfunction(Bokeh) {} // ensure no trailing comma for IE\n  ];\n\n  function run_inline_js() {\n    if ((root.Bokeh !== undefined) || (force === true)) {\n      for (var i = 0; i < inline_js.length; i++) {\n        inline_js[i].call(root, root.Bokeh);\n      }\n      // Cache old bokeh versions\n      if (Bokeh != undefined && !reloading) {\n\tvar NewBokeh = root.Bokeh;\n\tif (Bokeh.versions === undefined) {\n\t  Bokeh.versions = new Map();\n\t}\n\tif (NewBokeh.version !== Bokeh.version) {\n\t  Bokeh.versions.set(NewBokeh.version, NewBokeh)\n\t}\n\troot.Bokeh = Bokeh;\n      }} else if (Date.now() < root._bokeh_timeout) {\n      setTimeout(run_inline_js, 100);\n    } else if (!root._bokeh_failed_load) {\n      console.log(\"Bokeh: BokehJS failed to load within specified timeout.\");\n      root._bokeh_failed_load = true;\n    }\n    root._bokeh_is_initializing = false\n  }\n\n  function load_or_wait() {\n    // Implement a backoff loop that tries to ensure we do not load multiple\n    // versions of Bokeh and its dependencies at the same time.\n    // In recent versions we use the root._bokeh_is_initializing flag\n    // to determine whether there is an ongoing attempt to initialize\n    // bokeh, however for backward compatibility we also try to ensure\n    // that we do not start loading a newer (Panel>=1.0 and Bokeh>3) version\n    // before older versions are fully initialized.\n    if (root._bokeh_is_initializing && Date.now() > root._bokeh_timeout) {\n      root._bokeh_is_initializing = false;\n      root._bokeh_onload_callbacks = undefined;\n      console.log(\"Bokeh: BokehJS was loaded multiple times but one version failed to initialize.\");\n      load_or_wait();\n    } else if (root._bokeh_is_initializing || (typeof root._bokeh_is_initializing === \"undefined\" && root._bokeh_onload_callbacks !== undefined)) {\n      setTimeout(load_or_wait, 100);\n    } else {\n      Bokeh = root.Bokeh;\n      bokeh_loaded = Bokeh != null && (Bokeh.version === py_version || (Bokeh.versions !== undefined && Bokeh.versions.has(py_version)));\n      root._bokeh_is_initializing = true\n      root._bokeh_onload_callbacks = []\n      if (!reloading && (!bokeh_loaded || is_dev)) {\n\troot.Bokeh = undefined;\n      }\n      load_libs(css_urls, js_urls, js_modules, js_exports, function() {\n\tconsole.debug(\"Bokeh: BokehJS plotting callback run at\", now());\n\trun_inline_js();\n      });\n    }\n  }\n  // Give older versions of the autoload script a head-start to ensure\n  // they initialize before we start loading newer version.\n  setTimeout(load_or_wait, 100)\n}(window));",
      "application/vnd.holoviews_load.v0+json": ""
     },
     "metadata": {},
     "output_type": "display_data"
    },
    {
     "data": {
      "application/javascript": "\nif ((window.PyViz === undefined) || (window.PyViz instanceof HTMLElement)) {\n  window.PyViz = {comms: {}, comm_status:{}, kernels:{}, receivers: {}, plot_index: []}\n}\n\n\n    function JupyterCommManager() {\n    }\n\n    JupyterCommManager.prototype.register_target = function(plot_id, comm_id, msg_handler) {\n      if (window.comm_manager || ((window.Jupyter !== undefined) && (Jupyter.notebook.kernel != null))) {\n        var comm_manager = window.comm_manager || Jupyter.notebook.kernel.comm_manager;\n        comm_manager.register_target(comm_id, function(comm) {\n          comm.on_msg(msg_handler);\n        });\n      } else if ((plot_id in window.PyViz.kernels) && (window.PyViz.kernels[plot_id])) {\n        window.PyViz.kernels[plot_id].registerCommTarget(comm_id, function(comm) {\n          comm.onMsg = msg_handler;\n        });\n      } else if (typeof google != 'undefined' && google.colab.kernel != null) {\n        google.colab.kernel.comms.registerTarget(comm_id, (comm) => {\n          var messages = comm.messages[Symbol.asyncIterator]();\n          function processIteratorResult(result) {\n            var message = result.value;\n            console.log(message)\n            var content = {data: message.data, comm_id};\n            var buffers = []\n            for (var buffer of message.buffers || []) {\n              buffers.push(new DataView(buffer))\n            }\n            var metadata = message.metadata || {};\n            var msg = {content, buffers, metadata}\n            msg_handler(msg);\n            return messages.next().then(processIteratorResult);\n          }\n          return messages.next().then(processIteratorResult);\n        })\n      }\n    }\n\n    JupyterCommManager.prototype.get_client_comm = function(plot_id, comm_id, msg_handler) {\n      if (comm_id in window.PyViz.comms) {\n        return window.PyViz.comms[comm_id];\n      } else if (window.comm_manager || ((window.Jupyter !== undefined) && (Jupyter.notebook.kernel != null))) {\n        var comm_manager = window.comm_manager || Jupyter.notebook.kernel.comm_manager;\n        var comm = comm_manager.new_comm(comm_id, {}, {}, {}, comm_id);\n        if (msg_handler) {\n          comm.on_msg(msg_handler);\n        }\n      } else if ((plot_id in window.PyViz.kernels) && (window.PyViz.kernels[plot_id])) {\n        var comm = window.PyViz.kernels[plot_id].connectToComm(comm_id);\n        comm.open();\n        if (msg_handler) {\n          comm.onMsg = msg_handler;\n        }\n      } else if (typeof google != 'undefined' && google.colab.kernel != null) {\n        var comm_promise = google.colab.kernel.comms.open(comm_id)\n        comm_promise.then((comm) => {\n          window.PyViz.comms[comm_id] = comm;\n          if (msg_handler) {\n            var messages = comm.messages[Symbol.asyncIterator]();\n            function processIteratorResult(result) {\n              var message = result.value;\n              var content = {data: message.data};\n              var metadata = message.metadata || {comm_id};\n              var msg = {content, metadata}\n              msg_handler(msg);\n              return messages.next().then(processIteratorResult);\n            }\n            return messages.next().then(processIteratorResult);\n          }\n        }) \n        var sendClosure = (data, metadata, buffers, disposeOnDone) => {\n          return comm_promise.then((comm) => {\n            comm.send(data, metadata, buffers, disposeOnDone);\n          });\n        };\n        var comm = {\n          send: sendClosure\n        };\n      }\n      window.PyViz.comms[comm_id] = comm;\n      return comm;\n    }\n    window.PyViz.comm_manager = new JupyterCommManager();\n    \n\n\nvar JS_MIME_TYPE = 'application/javascript';\nvar HTML_MIME_TYPE = 'text/html';\nvar EXEC_MIME_TYPE = 'application/vnd.holoviews_exec.v0+json';\nvar CLASS_NAME = 'output';\n\n/**\n * Render data to the DOM node\n */\nfunction render(props, node) {\n  var div = document.createElement(\"div\");\n  var script = document.createElement(\"script\");\n  node.appendChild(div);\n  node.appendChild(script);\n}\n\n/**\n * Handle when a new output is added\n */\nfunction handle_add_output(event, handle) {\n  var output_area = handle.output_area;\n  var output = handle.output;\n  if ((output.data == undefined) || (!output.data.hasOwnProperty(EXEC_MIME_TYPE))) {\n    return\n  }\n  var id = output.metadata[EXEC_MIME_TYPE][\"id\"];\n  var toinsert = output_area.element.find(\".\" + CLASS_NAME.split(' ')[0]);\n  if (id !== undefined) {\n    var nchildren = toinsert.length;\n    var html_node = toinsert[nchildren-1].children[0];\n    html_node.innerHTML = output.data[HTML_MIME_TYPE];\n    var scripts = [];\n    var nodelist = html_node.querySelectorAll(\"script\");\n    for (var i in nodelist) {\n      if (nodelist.hasOwnProperty(i)) {\n        scripts.push(nodelist[i])\n      }\n    }\n\n    scripts.forEach( function (oldScript) {\n      var newScript = document.createElement(\"script\");\n      var attrs = [];\n      var nodemap = oldScript.attributes;\n      for (var j in nodemap) {\n        if (nodemap.hasOwnProperty(j)) {\n          attrs.push(nodemap[j])\n        }\n      }\n      attrs.forEach(function(attr) { newScript.setAttribute(attr.name, attr.value) });\n      newScript.appendChild(document.createTextNode(oldScript.innerHTML));\n      oldScript.parentNode.replaceChild(newScript, oldScript);\n    });\n    if (JS_MIME_TYPE in output.data) {\n      toinsert[nchildren-1].children[1].textContent = output.data[JS_MIME_TYPE];\n    }\n    output_area._hv_plot_id = id;\n    if ((window.Bokeh !== undefined) && (id in Bokeh.index)) {\n      window.PyViz.plot_index[id] = Bokeh.index[id];\n    } else {\n      window.PyViz.plot_index[id] = null;\n    }\n  } else if (output.metadata[EXEC_MIME_TYPE][\"server_id\"] !== undefined) {\n    var bk_div = document.createElement(\"div\");\n    bk_div.innerHTML = output.data[HTML_MIME_TYPE];\n    var script_attrs = bk_div.children[0].attributes;\n    for (var i = 0; i < script_attrs.length; i++) {\n      toinsert[toinsert.length - 1].childNodes[1].setAttribute(script_attrs[i].name, script_attrs[i].value);\n    }\n    // store reference to server id on output_area\n    output_area._bokeh_server_id = output.metadata[EXEC_MIME_TYPE][\"server_id\"];\n  }\n}\n\n/**\n * Handle when an output is cleared or removed\n */\nfunction handle_clear_output(event, handle) {\n  var id = handle.cell.output_area._hv_plot_id;\n  var server_id = handle.cell.output_area._bokeh_server_id;\n  if (((id === undefined) || !(id in PyViz.plot_index)) && (server_id !== undefined)) { return; }\n  var comm = window.PyViz.comm_manager.get_client_comm(\"hv-extension-comm\", \"hv-extension-comm\", function () {});\n  if (server_id !== null) {\n    comm.send({event_type: 'server_delete', 'id': server_id});\n    return;\n  } else if (comm !== null) {\n    comm.send({event_type: 'delete', 'id': id});\n  }\n  delete PyViz.plot_index[id];\n  if ((window.Bokeh !== undefined) & (id in window.Bokeh.index)) {\n    var doc = window.Bokeh.index[id].model.document\n    doc.clear();\n    const i = window.Bokeh.documents.indexOf(doc);\n    if (i > -1) {\n      window.Bokeh.documents.splice(i, 1);\n    }\n  }\n}\n\n/**\n * Handle kernel restart event\n */\nfunction handle_kernel_cleanup(event, handle) {\n  delete PyViz.comms[\"hv-extension-comm\"];\n  window.PyViz.plot_index = {}\n}\n\n/**\n * Handle update_display_data messages\n */\nfunction handle_update_output(event, handle) {\n  handle_clear_output(event, {cell: {output_area: handle.output_area}})\n  handle_add_output(event, handle)\n}\n\nfunction register_renderer(events, OutputArea) {\n  function append_mime(data, metadata, element) {\n    // create a DOM node to render to\n    var toinsert = this.create_output_subarea(\n    metadata,\n    CLASS_NAME,\n    EXEC_MIME_TYPE\n    );\n    this.keyboard_manager.register_events(toinsert);\n    // Render to node\n    var props = {data: data, metadata: metadata[EXEC_MIME_TYPE]};\n    render(props, toinsert[0]);\n    element.append(toinsert);\n    return toinsert\n  }\n\n  events.on('output_added.OutputArea', handle_add_output);\n  events.on('output_updated.OutputArea', handle_update_output);\n  events.on('clear_output.CodeCell', handle_clear_output);\n  events.on('delete.Cell', handle_clear_output);\n  events.on('kernel_ready.Kernel', handle_kernel_cleanup);\n\n  OutputArea.prototype.register_mime_type(EXEC_MIME_TYPE, append_mime, {\n    safe: true,\n    index: 0\n  });\n}\n\nif (window.Jupyter !== undefined) {\n  try {\n    var events = require('base/js/events');\n    var OutputArea = require('notebook/js/outputarea').OutputArea;\n    if (OutputArea.prototype.mime_types().indexOf(EXEC_MIME_TYPE) == -1) {\n      register_renderer(events, OutputArea);\n    }\n  } catch(err) {\n  }\n}\n",
      "application/vnd.holoviews_load.v0+json": ""
     },
     "metadata": {},
     "output_type": "display_data"
    },
    {
     "data": {
      "text/html": [
       "<style>*[data-root-id],\n",
       "*[data-root-id] > * {\n",
       "  box-sizing: border-box;\n",
       "  font-family: var(--jp-ui-font-family);\n",
       "  font-size: var(--jp-ui-font-size1);\n",
       "  color: var(--vscode-editor-foreground, var(--jp-ui-font-color1));\n",
       "}\n",
       "\n",
       "/* Override VSCode background color */\n",
       ".cell-output-ipywidget-background:has(\n",
       "    > .cell-output-ipywidget-background > .lm-Widget > *[data-root-id]\n",
       "  ),\n",
       ".cell-output-ipywidget-background:has(> .lm-Widget > *[data-root-id]) {\n",
       "  background-color: transparent !important;\n",
       "}\n",
       "</style>"
      ]
     },
     "metadata": {},
     "output_type": "display_data"
    },
    {
     "data": {
      "text/plain": [
       "'7e6ef8b302d64a9795d405842daa6dc5'"
      ]
     },
     "execution_count": 1,
     "metadata": {},
     "output_type": "execute_result"
    }
   ],
   "source": [
    "# Dependencies and Setup\n",
    "import hvplot.pandas\n",
    "import pandas as pd\n",
    "import requests\n",
    "\n",
    "# Import API key\n",
    "from api_keys import geoapify_key\n",
    "geoapify_key"
   ]
  },
  {
   "cell_type": "code",
   "execution_count": 2,
   "metadata": {},
   "outputs": [
    {
     "data": {
      "text/html": [
       "<div>\n",
       "<style scoped>\n",
       "    .dataframe tbody tr th:only-of-type {\n",
       "        vertical-align: middle;\n",
       "    }\n",
       "\n",
       "    .dataframe tbody tr th {\n",
       "        vertical-align: top;\n",
       "    }\n",
       "\n",
       "    .dataframe thead th {\n",
       "        text-align: right;\n",
       "    }\n",
       "</style>\n",
       "<table border=\"1\" class=\"dataframe\">\n",
       "  <thead>\n",
       "    <tr style=\"text-align: right;\">\n",
       "      <th></th>\n",
       "      <th>City_ID</th>\n",
       "      <th>City</th>\n",
       "      <th>Lat</th>\n",
       "      <th>Lng</th>\n",
       "      <th>Max Temp</th>\n",
       "      <th>Humidity</th>\n",
       "      <th>Cloudiness</th>\n",
       "      <th>Wind Speed</th>\n",
       "      <th>Country</th>\n",
       "      <th>Date</th>\n",
       "    </tr>\n",
       "  </thead>\n",
       "  <tbody>\n",
       "    <tr>\n",
       "      <th>0</th>\n",
       "      <td>0</td>\n",
       "      <td>san antonio de pale</td>\n",
       "      <td>-1.4014</td>\n",
       "      <td>5.6325</td>\n",
       "      <td>26.18</td>\n",
       "      <td>82</td>\n",
       "      <td>97</td>\n",
       "      <td>3.60</td>\n",
       "      <td>GQ</td>\n",
       "      <td>1701983729</td>\n",
       "    </tr>\n",
       "    <tr>\n",
       "      <th>1</th>\n",
       "      <td>1</td>\n",
       "      <td>cutral-co</td>\n",
       "      <td>-38.9469</td>\n",
       "      <td>-69.2089</td>\n",
       "      <td>29.95</td>\n",
       "      <td>10</td>\n",
       "      <td>64</td>\n",
       "      <td>1.34</td>\n",
       "      <td>AR</td>\n",
       "      <td>1701983730</td>\n",
       "    </tr>\n",
       "    <tr>\n",
       "      <th>2</th>\n",
       "      <td>2</td>\n",
       "      <td>college</td>\n",
       "      <td>64.8569</td>\n",
       "      <td>-147.8028</td>\n",
       "      <td>-17.01</td>\n",
       "      <td>79</td>\n",
       "      <td>40</td>\n",
       "      <td>3.60</td>\n",
       "      <td>US</td>\n",
       "      <td>1701983730</td>\n",
       "    </tr>\n",
       "    <tr>\n",
       "      <th>3</th>\n",
       "      <td>3</td>\n",
       "      <td>stanley</td>\n",
       "      <td>54.8680</td>\n",
       "      <td>-1.6985</td>\n",
       "      <td>4.60</td>\n",
       "      <td>94</td>\n",
       "      <td>75</td>\n",
       "      <td>4.12</td>\n",
       "      <td>GB</td>\n",
       "      <td>1701983730</td>\n",
       "    </tr>\n",
       "    <tr>\n",
       "      <th>4</th>\n",
       "      <td>4</td>\n",
       "      <td>bredasdorp</td>\n",
       "      <td>-34.5322</td>\n",
       "      <td>20.0403</td>\n",
       "      <td>18.46</td>\n",
       "      <td>86</td>\n",
       "      <td>0</td>\n",
       "      <td>5.12</td>\n",
       "      <td>ZA</td>\n",
       "      <td>1701983730</td>\n",
       "    </tr>\n",
       "  </tbody>\n",
       "</table>\n",
       "</div>"
      ],
      "text/plain": [
       "   City_ID                 City      Lat       Lng  Max Temp  Humidity  \\\n",
       "0        0  san antonio de pale  -1.4014    5.6325     26.18        82   \n",
       "1        1            cutral-co -38.9469  -69.2089     29.95        10   \n",
       "2        2              college  64.8569 -147.8028    -17.01        79   \n",
       "3        3              stanley  54.8680   -1.6985      4.60        94   \n",
       "4        4           bredasdorp -34.5322   20.0403     18.46        86   \n",
       "\n",
       "   Cloudiness  Wind Speed Country        Date  \n",
       "0          97        3.60      GQ  1701983729  \n",
       "1          64        1.34      AR  1701983730  \n",
       "2          40        3.60      US  1701983730  \n",
       "3          75        4.12      GB  1701983730  \n",
       "4           0        5.12      ZA  1701983730  "
      ]
     },
     "execution_count": 2,
     "metadata": {},
     "output_type": "execute_result"
    }
   ],
   "source": [
    "# Load the CSV file created in Part 1 into a Pandas DataFrame\n",
    "city_data_df = pd.read_csv(\"../output_data/cities.csv\")\n",
    "\n",
    "# Display sample data\n",
    "city_data_df.head()"
   ]
  },
  {
   "cell_type": "markdown",
   "metadata": {},
   "source": [
    "---\n",
    "\n",
    "### Step 1: Create a map that displays a point for every city in the `city_data_df` DataFrame. The size of the point should be the humidity in each city."
   ]
  },
  {
   "cell_type": "code",
   "execution_count": 4,
   "metadata": {},
   "outputs": [
    {
     "data": {},
     "metadata": {},
     "output_type": "display_data"
    },
    {
     "data": {
      "application/vnd.holoviews_exec.v0+json": "",
      "text/html": [
       "<div id='p1005'>\n",
       "  <div id=\"d98d61b4-7b32-4208-b73c-11b0953c5501\" data-root-id=\"p1005\" style=\"display: contents;\"></div>\n",
       "</div>\n",
       "<script type=\"application/javascript\">(function(root) {\n",
       "  var docs_json = {\"dd0685a5-04fe-487a-9b86-8c39c583db00\":{\"version\":\"3.2.1\",\"title\":\"Bokeh Application\",\"roots\":[{\"type\":\"object\",\"name\":\"Row\",\"id\":\"p1005\",\"attributes\":{\"name\":\"Row01589\",\"tags\":[\"embedded\"],\"stylesheets\":[\"\\n:host(.pn-loading.pn-arc):before, .pn-loading.pn-arc:before {\\n  background-image: url(\\\"data:image/svg+xml;base64,PHN2ZyB4bWxucz0iaHR0cDovL3d3dy53My5vcmcvMjAwMC9zdmciIHN0eWxlPSJtYXJnaW46IGF1dG87IGJhY2tncm91bmQ6IG5vbmU7IGRpc3BsYXk6IGJsb2NrOyBzaGFwZS1yZW5kZXJpbmc6IGF1dG87IiB2aWV3Qm94PSIwIDAgMTAwIDEwMCIgcHJlc2VydmVBc3BlY3RSYXRpbz0ieE1pZFlNaWQiPiAgPGNpcmNsZSBjeD0iNTAiIGN5PSI1MCIgZmlsbD0ibm9uZSIgc3Ryb2tlPSIjYzNjM2MzIiBzdHJva2Utd2lkdGg9IjEwIiByPSIzNSIgc3Ryb2tlLWRhc2hhcnJheT0iMTY0LjkzMzYxNDMxMzQ2NDE1IDU2Ljk3Nzg3MTQzNzgyMTM4Ij4gICAgPGFuaW1hdGVUcmFuc2Zvcm0gYXR0cmlidXRlTmFtZT0idHJhbnNmb3JtIiB0eXBlPSJyb3RhdGUiIHJlcGVhdENvdW50PSJpbmRlZmluaXRlIiBkdXI9IjFzIiB2YWx1ZXM9IjAgNTAgNTA7MzYwIDUwIDUwIiBrZXlUaW1lcz0iMDsxIj48L2FuaW1hdGVUcmFuc2Zvcm0+ICA8L2NpcmNsZT48L3N2Zz4=\\\");\\n  background-size: auto calc(min(50%, 400px));\\n}\",{\"type\":\"object\",\"name\":\"ImportedStyleSheet\",\"id\":\"p1008\",\"attributes\":{\"url\":\"https://cdn.holoviz.org/panel/1.2.3/dist/css/loading.css\"}},{\"type\":\"object\",\"name\":\"ImportedStyleSheet\",\"id\":\"p1085\",\"attributes\":{\"url\":\"https://cdn.holoviz.org/panel/1.2.3/dist/css/listpanel.css\"}},{\"type\":\"object\",\"name\":\"ImportedStyleSheet\",\"id\":\"p1006\",\"attributes\":{\"url\":\"https://cdn.holoviz.org/panel/1.2.3/dist/bundled/theme/default.css\"}},{\"type\":\"object\",\"name\":\"ImportedStyleSheet\",\"id\":\"p1007\",\"attributes\":{\"url\":\"https://cdn.holoviz.org/panel/1.2.3/dist/bundled/theme/native.css\"}}],\"margin\":0,\"sizing_mode\":\"stretch_width\",\"align\":\"start\",\"children\":[{\"type\":\"object\",\"name\":\"Spacer\",\"id\":\"p1009\",\"attributes\":{\"name\":\"HSpacer01599\",\"stylesheets\":[\"\\n:host(.pn-loading.pn-arc):before, .pn-loading.pn-arc:before {\\n  background-image: url(\\\"data:image/svg+xml;base64,PHN2ZyB4bWxucz0iaHR0cDovL3d3dy53My5vcmcvMjAwMC9zdmciIHN0eWxlPSJtYXJnaW46IGF1dG87IGJhY2tncm91bmQ6IG5vbmU7IGRpc3BsYXk6IGJsb2NrOyBzaGFwZS1yZW5kZXJpbmc6IGF1dG87IiB2aWV3Qm94PSIwIDAgMTAwIDEwMCIgcHJlc2VydmVBc3BlY3RSYXRpbz0ieE1pZFlNaWQiPiAgPGNpcmNsZSBjeD0iNTAiIGN5PSI1MCIgZmlsbD0ibm9uZSIgc3Ryb2tlPSIjYzNjM2MzIiBzdHJva2Utd2lkdGg9IjEwIiByPSIzNSIgc3Ryb2tlLWRhc2hhcnJheT0iMTY0LjkzMzYxNDMxMzQ2NDE1IDU2Ljk3Nzg3MTQzNzgyMTM4Ij4gICAgPGFuaW1hdGVUcmFuc2Zvcm0gYXR0cmlidXRlTmFtZT0idHJhbnNmb3JtIiB0eXBlPSJyb3RhdGUiIHJlcGVhdENvdW50PSJpbmRlZmluaXRlIiBkdXI9IjFzIiB2YWx1ZXM9IjAgNTAgNTA7MzYwIDUwIDUwIiBrZXlUaW1lcz0iMDsxIj48L2FuaW1hdGVUcmFuc2Zvcm0+ICA8L2NpcmNsZT48L3N2Zz4=\\\");\\n  background-size: auto calc(min(50%, 400px));\\n}\",{\"id\":\"p1008\"},{\"id\":\"p1006\"},{\"id\":\"p1007\"}],\"margin\":0,\"sizing_mode\":\"stretch_width\",\"align\":\"start\"}},{\"type\":\"object\",\"name\":\"Figure\",\"id\":\"p1026\",\"attributes\":{\"width\":null,\"height\":null,\"margin\":[5,10],\"sizing_mode\":\"fixed\",\"align\":\"start\",\"x_range\":{\"type\":\"object\",\"name\":\"Range1d\",\"id\":\"p1016\",\"attributes\":{\"tags\":[[[\"Lng\",\"Lng\",null]],[]],\"start\":-22807083.434054255,\"end\":22788994.016800344,\"reset_start\":-22807083.434054255,\"reset_end\":22788994.016800344,\"min_interval\":5}},\"y_range\":{\"type\":\"object\",\"name\":\"Range1d\",\"id\":\"p1017\",\"attributes\":{\"tags\":[[[\"Lat\",\"Lat\",null]],{\"type\":\"map\",\"entries\":[[\"invert_yaxis\",false],[\"autorange\",false]]}],\"start\":-13516707.52447274,\"end\":20680350.56366821,\"reset_start\":-13516707.52447274,\"reset_end\":20680350.56366821,\"min_interval\":5}},\"x_scale\":{\"type\":\"object\",\"name\":\"LinearScale\",\"id\":\"p1036\"},\"y_scale\":{\"type\":\"object\",\"name\":\"LinearScale\",\"id\":\"p1037\"},\"title\":{\"type\":\"object\",\"name\":\"Title\",\"id\":\"p1029\",\"attributes\":{\"text_color\":\"black\",\"text_font_size\":\"12pt\"}},\"renderers\":[{\"type\":\"object\",\"name\":\"TileRenderer\",\"id\":\"p1061\",\"attributes\":{\"level\":\"glyph\",\"tile_source\":{\"type\":\"object\",\"name\":\"WMTSTileSource\",\"id\":\"p1057\",\"attributes\":{\"url\":\"https://server.arcgisonline.com/ArcGIS/rest/services/World_Imagery/MapServer/tile/{Z}/{Y}/{X}.jpg\",\"attribution\":\"&copy; <a href=\\\"http://downloads.esri.com/ArcGISOnline/docs/tou_summary.pdf\\\">Esri</a>, Earthstar Geographics\"}}}},{\"type\":\"object\",\"name\":\"GlyphRenderer\",\"id\":\"p1075\",\"attributes\":{\"name\":\"color\",\"data_source\":{\"type\":\"object\",\"name\":\"ColumnDataSource\",\"id\":\"p1064\",\"attributes\":{\"selected\":{\"type\":\"object\",\"name\":\"Selection\",\"id\":\"p1065\",\"attributes\":{\"indices\":[],\"line_indices\":[]}},\"selection_policy\":{\"type\":\"object\",\"name\":\"UnionRenderers\",\"id\":\"p1066\"},\"data\":{\"type\":\"map\",\"entries\":[[\"Lng\",{\"type\":\"ndarray\",\"array\":{\"type\":\"bytes\",\"data\":\"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\"},\"shape\":[534],\"dtype\":\"float64\",\"order\":\"little\"}],[\"Lat\",{\"type\":\"ndarray\",\"array\":{\"type\":\"bytes\",\"data\":\"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\"},\"shape\":[534],\"dtype\":\"float64\",\"order\":\"little\"}],[\"City\",{\"type\":\"ndarray\",\"array\":[\"san antonio de pale\",\"cutral-co\",\"college\",\"stanley\",\"bredasdorp\",\"port-aux-francais\",\"kodiak\",\"port elizabeth\",\"charters towers\",\"vilyuchinsk\",\"adamstown\",\"yellowknife\",\"longyearbyen\",\"thunder bay\",\"talnakh\",\"lompoc\",\"puerto natales\",\"papatowai\",\"silvania\",\"anadyr\",\"waitangi\",\"kunduz\",\"argo\",\"itamaraju\",\"wailua homesteads\",\"bethel\",\"afaahiti\",\"kingston\",\"yeniseysk\",\"dunedin\",\"hohhot\",\"edinburgh of the seven seas\",\"margaret river\",\"hithadhoo\",\"sinabang\",\"bumba\",\"grytviken\",\"princeville\",\"sao joao da barra\",\"mormugao\",\"ushuaia\",\"xiannu\",\"iqaluit\",\"laguna\",\"corbeni\",\"jabat\",\"jaisinghnagar\",\"babayevo\",\"virginia\",\"bamboo flat\",\"albany\",\"montorio al vomano\",\"whitehorse\",\"mirny\",\"lebu\",\"cidreira\",\"atafu village\",\"thompson\",\"uturoa\",\"hawaiian paradise park\",\"viedma\",\"port lincoln\",\"olonkinbyen\",\"badger\",\"tiksi\",\"el calafate\",\"progreso\",\"west island\",\"severobaykal'sk\",\"bodaybo\",\"merritt\",\"port mathurin\",\"nouna\",\"hasaki\",\"priyutovo\",\"sitka\",\"pandan\",\"leava\",\"codrington\",\"qaqortoq\",\"bilibino\",\"enewetak\",\"homestead meadows north\",\"fonte boa\",\"sitangkai\",\"ghat\",\"ancud\",\"guerrero negro\",\"tazovsky\",\"vodnyy\",\"nouadhibou\",\"ribeira grande\",\"tolanaro\",\"muriti\",\"tura\",\"vila franca do campo\",\"cabo san lucas\",\"keflavik\",\"rikaze\",\"hamilton\",\"luderitz\",\"ad dawadimi\",\"olyokminsk\",\"blackmans bay\",\"jamestown\",\"severo-yeniseyskiy\",\"namibe\",\"atlantic city\",\"hammerfest\",\"ust-nera\",\"aripuana\",\"udachny\",\"acapulco de juarez\",\"rancho palos verdes\",\"egilsstadir\",\"weno\",\"namtsy\",\"yuzhno-kurilsk\",\"mata-utu\",\"kerikeri\",\"posto fiscal rolim de moura\",\"dubai\",\"isafjordur\",\"la'ie\",\"tadine\",\"vorgashor\",\"gadzhiyevo\",\"puerto quijarro\",\"gisborne\",\"pearsall\",\"nantucket\",\"lucea\",\"ati\",\"cox's bazar\",\"kailua-kona\",\"la passe\",\"maracacume\",\"chibougamau\",\"tegueste\",\"puerto baquerizo moreno\",\"pisco\",\"fish town\",\"katsuren-haebaru\",\"kargasok\",\"invercargill\",\"fortuna\",\"shache\",\"mount pearl\",\"kununurra\",\"san andres\",\"gronau\",\"bayganin\",\"avarua\",\"petropavlovsk-kamchatsky\",\"mogocha\",\"najaf\",\"al bayda'\",\"bodden town\",\"tralee\",\"sao paulo de olivenca\",\"maceio\",\"labrador city\",\"sragen\",\"haimen\",\"maffra\",\"flying fish cove\",\"afua\",\"san patricio\",\"tongliao\",\"ilulissat\",\"gandarbal\",\"plainview\",\"freetown\",\"pulandian\",\"neiafu\",\"jinghong\",\"burunday\",\"howard springs\",\"sandnessjoen\",\"nova aurora\",\"new norfolk\",\"laojunmiao\",\"uacu cungo\",\"polyarnyy\",\"puerto ayora\",\"hilo\",\"mili\",\"canoinhas\",\"nemuro\",\"punta arenas\",\"pangody\",\"nizhnevartovsk\",\"kitakata\",\"divnogorsk\",\"walvis bay\",\"georgetown\",\"juba\",\"ozurgeti\",\"saint-pierre\",\"lagoa\",\"ar ruways\",\"cabedelo\",\"ad duraykish\",\"remire-montjoly\",\"dudinka\",\"mahina\",\"cromer\",\"rosarito\",\"yaren\",\"utrik\",\"aral\",\"colonia\",\"midvagur\",\"mezhdurechenskiy\",\"nishinoomote\",\"xishan\",\"east london\",\"kone\",\"ardestan\",\"lake havasu city\",\"dakhla\",\"ruteng\",\"leshan\",\"dukku\",\"kidal\",\"port-cartier\",\"esquel\",\"kapuskasing\",\"hermanus\",\"richards bay\",\"murzuq\",\"antofagasta\",\"nikolayevsk-on-amure\",\"pacific grove\",\"emporia\",\"ambam\",\"karratha\",\"le port\",\"keyser\",\"phan rang-thap cham\",\"tual\",\"nar'yan-mar\",\"labuan bajo\",\"hakodate\",\"isla mujeres\",\"tsiombe\",\"justo daract\",\"morehead city\",\"nova sintra\",\"nyurba\",\"luau\",\"kalevala\",\"san luis\",\"coquimbo\",\"kihancha\",\"marsh harbour\",\"ganshui\",\"iskateley\",\"carloforte\",\"west bay\",\"new plymouth\",\"usinsk\",\"chonchi\",\"greymouth\",\"howrah\",\"kutum\",\"beni\",\"cafayate\",\"gaspe\",\"antsiranana\",\"mil'kovo\",\"batangafo\",\"urangan\",\"shevchenko\",\"lucieni\",\"dadukou\",\"arkhara\",\"benguela\",\"bargaal\",\"lisala\",\"xiva\",\"toliara\",\"pemangkat\",\"kangding\",\"ugoofaaru\",\"ladario\",\"tamanrasset\",\"margate\",\"farasan\",\"puerto deseado\",\"arraial do cabo\",\"valparaiso\",\"hotan\",\"saldanha\",\"babura\",\"chinde\",\"axim\",\"vera\",\"cowra\",\"ukholovo\",\"port isabel\",\"khanty-mansiysk\",\"basco\",\"labuan\",\"minot air force base\",\"kavieng\",\"luganville\",\"magadan\",\"pizarro\",\"souillac\",\"lerwick\",\"villa del prado\",\"kourou\",\"mount gambier\",\"les cayes\",\"boa vista\",\"weihai\",\"inderbor\",\"qinzhou\",\"jiagedaqi\",\"ola\",\"dryden\",\"diyadin\",\"panino\",\"westport\",\"mutuali\",\"esil\",\"qamdo\",\"akdagmadeni\",\"yarmouth\",\"sinop\",\"kipalbig\",\"warwick\",\"bathsheba\",\"singkil\",\"yashkul'\",\"sabang\",\"dickinson\",\"landskrona\",\"sidi khaled\",\"mahanoro\",\"sao vicente\",\"nogliki\",\"la ronge\",\"lihue\",\"puerto lempira\",\"katoya\",\"nago\",\"murray bridge\",\"castillos\",\"saint-philippe\",\"lensk\",\"haiku-pauwela\",\"bandarbeyla\",\"champoton\",\"smithers\",\"saipan\",\"ta`u\",\"tarko-sale\",\"palikir - national government center\",\"ouahigouya\",\"ajaokuta\",\"anar darah\",\"monrovia\",\"praia da vitoria\",\"broken hill\",\"midelt\",\"merizo village\",\"mitu\",\"carnarvon\",\"at taj\",\"yulinshi\",\"sisimiut\",\"rio grande\",\"jiuquan\",\"saynshand\",\"ouesso\",\"pine bluff\",\"mola di bari\",\"plastun\",\"manokwari\",\"bambanglipuro\",\"liwale\",\"forster\",\"toamasina\",\"carletonville\",\"kudahuvadhoo\",\"newman\",\"lata\",\"vuktyl\",\"vila do maio\",\"berbera\",\"fisterra\",\"selfoss\",\"bubaque\",\"altai\",\"woolgoolga\",\"inyonga\",\"st. john's\",\"hailey\",\"zhaotong\",\"kumagunnam\",\"plettenberg bay\",\"queenstown\",\"altamira\",\"kruisfontein\",\"ushachy\",\"hami\",\"aasiaat\",\"itaituba\",\"fortaleza\",\"kapa'a\",\"flin flon\",\"fort bragg\",\"naze\",\"agacoren\",\"ishim\",\"kaeng khro\",\"blaye\",\"ciudad madero\",\"pali\",\"noumea\",\"al ghayzah\",\"christchurch\",\"port alfred\",\"mumford\",\"nova vicosa\",\"portland\",\"ostersund\",\"itoman\",\"aguas vermelhas\",\"kuacjok\",\"hargeysa\",\"gizo\",\"socorro\",\"palmer\",\"al jawf\",\"gazli\",\"byron bay\",\"six-fours-les-plages\",\"dalbandin\",\"constantia\",\"matai\",\"makoua\",\"faya-largeau\",\"ternate\",\"cullinan\",\"knyaze-volkonskoye\",\"seven pagodas\",\"inda silase\",\"praia\",\"tulln\",\"lethem\",\"andratx\",\"ashburton\",\"broome\",\"miles city\",\"vila velha\",\"lodwar\",\"kapit\",\"kampong chhnang\",\"kegeyli shahar\",\"ciudad cuauhtemoc\",\"karak city\",\"podporozh'ye\",\"picota\",\"taounate\",\"odda\",\"nyala\",\"grand baie\",\"maryborough\",\"homer\",\"kinablangan\",\"papao\",\"wichita falls\",\"kuala belait\",\"san luis de la loma\",\"parauapebas\",\"tevriz\",\"mejit\",\"takoradi\",\"talodi\",\"polovinnoye\",\"baoqing\",\"perigueux\",\"lospalos\",\"abu jibeha\",\"cockburn town\",\"grand falls-windsor\",\"sainte-suzanne\",\"tegina\",\"bontoc\",\"fort st. john\",\"isangel\",\"alofi\",\"ambah\",\"pimentel\",\"mhangura\",\"valderice\",\"lauro de freitas\",\"marcala\",\"kulhudhuffushi\",\"roxas\",\"mocimboa\",\"estrela\",\"nea kallikrateia\",\"lorengau\",\"novyye lyady\",\"harper\",\"kosikha\",\"sleaford\",\"prado\",\"crucecita\",\"labytnangi\",\"kiama\",\"aykhal\",\"crane\",\"ponnani\",\"suksun\",\"emerald\",\"sharlyk\",\"santa ana\",\"argostolion\",\"belyy yar\",\"santana\",\"tahe\",\"nuuk\",\"burabay\",\"akureyri\",\"zhaoyuan\",\"goulburn\",\"yeppoon\",\"yorkton\",\"harstad\"],\"shape\":[534],\"dtype\":\"object\",\"order\":\"little\"}],[\"Humidity\",{\"type\":\"ndarray\",\"array\":{\"type\":\"bytes\",\"data\":\"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\"},\"shape\":[534],\"dtype\":\"int32\",\"order\":\"little\"}],[\"index\",{\"type\":\"ndarray\",\"array\":{\"type\":\"bytes\",\"data\":\"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\"},\"shape\":[534],\"dtype\":\"int32\",\"order\":\"little\"}],[\"City_ID\",{\"type\":\"ndarray\",\"array\":{\"type\":\"bytes\",\"data\":\"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\"},\"shape\":[534],\"dtype\":\"int32\",\"order\":\"little\"}],[\"Max_Temp\",{\"type\":\"ndarray\",\"array\":{\"type\":\"bytes\",\"data\":\"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\"},\"shape\":[534],\"dtype\":\"float64\",\"order\":\"little\"}],[\"Cloudiness\",{\"type\":\"ndarray\",\"array\":{\"type\":\"bytes\",\"data\":\"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\"},\"shape\":[534],\"dtype\":\"int32\",\"order\":\"little\"}],[\"Wind_Speed\",{\"type\":\"ndarray\",\"array\":{\"type\":\"bytes\",\"data\":\"zczMzMzMDEBxPQrXo3D1P83MzMzMzAxAexSuR+F6EEB7FK5H4XoUQPYoXI/C9StAhetRuB6FIkCkcD0K16P4PwrXo3A9ChZAXI/C9Shc/z8pXI/C9SgVQLgehetRuAhAAAAAAACAIUC4HoXrUbgIQHE9CtejcPU/9ihcj8J1IEAfhetRuB4FQBSuR+F6FBRAZmZmZmZm7j8AAAAAAAAmQIXrUbgehR1AmpmZmZmZ6T+F61G4HoUBQK5H4XoUrhFAj8L1KFyPBECPwvUoXI8EQB+F61G4niFAw/UoXI/C/T/NzMzMzMzcP6RwPQrXo/w/AAAAAAAA8D/sUbgehesbQPYoXI/C9RJAAAAAAAAAEEB7FK5H4XrEPz0K16NwPeI/uB6F61G4GEAAAAAAAIAhQDMzMzMzsyFApHA9Ctej+D8pXI/C9Sj8P2ZmZmZmZgxA4XoUrkfhHkB7FK5H4XoQQJqZmZmZmeE/SOF6FK7HIkAfhetRuB79P4/C9Shcj/I/rkfhehSuGEB7FK5H4XrwP+F6FK5H4fI/XI/C9Shc/z/Xo3A9CtcaQHsUrkfheuw/9ihcj8L1G0AfhetRuB4DQI/C9ShcjwRAexSuR+F68D9cj8L1KFwTQK5H4XoUrhhAzczMzMzMHkBI4XoUrkf5P7gehetRuBVAzczMzMzMDEDhehSuR+ECQHsUrkfhegZAuB6F61G4FUDD9Shcj8IaQFK4HoXrURRAuB6F61G45j97FK5H4XrsP2ZmZmZmZgxA9ihcj8L1AkA9CtejcD36P9ejcD0K1/s/AAAAAAAAAADNzMzMzMwMQFK4HoXrURlAXI/C9ShcD0AAAAAAAAAYQK5H4XoUru8/FK5H4XqUI0DD9Shcj8IaQM3MzMzMzOQ/H4XrUbgeE0DD9Shcj8IHQOF6FK5H4RBArkfhehQuIUC4HoXrUbgTQHsUrkfhevQ/rkfhehSuGEBI4XoUrsciQOxRuB6F6xlAZmZmZmZmAECkcD0K16MAQFyPwvUoXAtAuB6F61G4CEB7FK5H4XoAQI/C9Shcj+I/pHA9CtejFkCkcD0K16MZQEjhehSuRwlA16NwPQrX4z/NzMzMzMzcP7gehetRuAhAcT0K16Nw9T9cj8L1KFwLQLgehetRuAhArkfhehSuGEDhehSuR+H+Pylcj8L1KOw/w/UoXI/C9T97FK5H4XoQQK5H4XoUrhhAj8L1KFyPFECF61G4HoUSQI/C9Shcj/4/KVyPwvUoKkDNzMzMzMwYQM3MzMzMzNw/H4XrUbgeD0B7FK5H4XoAQFyPwvUoXBVAcT0K16Nw9T/D9Shcj0IgQFK4HoXrUQBASOF6FK5HGkAK16NwPQrzPwrXo3A9CgFASOF6FK5HHECPwvUoXI8UQIXrUbgehSBAj8L1KFyPEkBI4XoUrkfxP4XrUbgehRJAUrgehetREEAAAAAAAAAEQHsUrkfhevA/exSuR+F6AECuR+F6FK4YQIXrUbgehSJApHA9Ctej+D+kcD0K16MKQKRwPQrXowxAMzMzMzMzD0BxPQrXo3D1P8P1KFyPwgNAzczMzMzMHEC4HoXrUbgIQIXrUbgehRJAcT0K16Nw9T+4HoXrUbgUQM3MzMzMzBxA7FG4HoXrAUDD9Shcj8L1PzMzMzMzMwdAw/UoXI/CA0DNzMzMzMwcQM3MzMzMzBxAH4XrUbge9T97FK5H4XoQQIXrUbgehRJAuB6F61G4BkDD9Shcj8IJQK5H4XoUruc/pHA9Ctej+D8zMzMzMzMLQD0K16NwPRxAuB6F61G4GUAAAAAAAAAAAOxRuB6F6/k/j8L1KFyPFECF61G4HoUHQAAAAAAAAPw/zczMzMzMDEAK16NwPQrXPwAAAAAAAABAhetRuB6F8z+4HoXrUbgIQLgehetRuPo/UrgehetR8D8K16NwPQrzP4XrUbgehes/j8L1KFyPG0CkcD0K16P8P65H4XoUrhhAUrgehetRIUD2KFyPwvXgP/YoXI/CdStAj8L1KFyPFEAAAAAAAAAXQAAAAAAAAABASOF6FK5HDUA9CtejcD3+P83MzMzMzBZApHA9Ctej+D+uR+F6FK73P4/C9Shcj/Y/pHA9Ctej+D9mZmZmZmYmQGZmZmZmZgxAAAAAAAAAFEBxPQrXo3DtP4/C9ShcjxRArkfhehSuE0DhehSuR+EeQD0K16NwPRdAuB6F61G4DEAAAAAAAAAOQBSuR+F6FCVACtejcD0KD0CuR+F6FK4YQClcj8L1qCdAKVyPwvUo/D9I4XoUrkcFQAAAAAAAAPg/9ihcj8L1EECkcD0K16MKQOF6FK5H4eI/uB6F61G4CEAK16NwPYojQLgehetRuOY/mpmZmZmZ6T8pXI/C9SgEQGZmZmZmZgRAzczMzMzMBkBcj8L1KFwBQI/C9ShcjwRASOF6FK5HEUBcj8L1KFwdQFK4HoXrURNAPQrXo3A9EkCPwvUoXI8UQM3MzMzMzAxAhetRuB6FIkAfhetRuB7VP1K4HoXrURhAZmZmZmZm9j+kcD0K16P8P1K4HoXrUQZAMzMzMzMz4z+kcD0K16MMQClcj8L1KBFAXI/C9SjcI0CPwvUoXI8SQArXo3A9Ch9AXI/C9ShcHEDNzMzMzMwMQDMzMzMzMxRAuB6F61G43j8zMzMzMzP3P3E9CtejcPU/MzMzMzMzG0CPwvUoXI8UQM3MzMzMzPQ/4XoUrkfhE0CkcD0K16PAP6RwPQrXowxAcT0K16Nw9T/NzMzMzMwcQHE9CtejcP0/CtejcD0KCUC4HoXrUbjuP83MzMzMzPw/exSuR+F6AEB7FK5H4XoGQFyPwvUoXO8/exSuR+F6E0DsUbgehesaQAAAAAAAABpA9ihcj8L1/D+amZmZmZmpPwrXo3A9ChlAPQrXo3A9GkBSuB6F61H8P8P1KFyPwuU/pHA9Ctej/D+PwvUoXI8AQGZmZmZmZhNAXI/C9Shc7z8fhetRuB4bQBSuR+F6FBFAKVyPwvUo/D9cj8L1KFwBQOF6FK5H4SZAj8L1KFyPBECPwvUoXI8EQHE9CtejcBVA4XoUrkfhBEA9CtejcD0RQM3MzMzMzBxArkfhehSuGEBcj8L1KFwPQPYoXI/C9RFAUrgehetRDECF61G4HoXrPylcj8L1KAhAAAAAAAAAEUCamZmZmZnxP65H4XoUrglA4XoUrkfhHkAAAAAAAAAAQClcj8L1qCNApHA9Ctej+D+PwvUoXI8EQB+F61G4HglAAAAAAAAAEkB7FK5H4XoeQHE9CtejcAVAAAAAAAAAAAA9CtejcL0uQLgehetRuABACtejcD0KD0A9CtejcD0OQKRwPQrXowZAexSuR+F68D9mZmZmZmYZQNejcD0K1xNAH4XrUbgeAUDD9Shcj8IHQDMzMzMzMxtAuB6F61G4CEB7FK5H4Xr4P5qZmZmZmRNAj8L1KFyPBEAK16NwPQr3P+F6FK5H4QRAMzMzMzMzwz/2KFyPwvUIQHsUrkfhegBAw/UoXI/CC0C4HoXrUbjeP3sUrkfhehBArkfhehSuGEB7FK5H4Xr8P7gehetRuB5AzczMzMzMFECuR+F6FK4YQClcj8L1KPw/MzMzMzMzA0BSuB6F61H0P3sUrkfheuw/cT0K16NwFUC4HoXrUbgIQI/C9ShcjwRAuB6F61G4CEAUrkfhehQMQClcj8L1KARAexSuR+F6G0CuR+F6FK4bQOF6FK5H4Q5AFK5H4XoU8j+4HoXrUbgIQDMzMzMzMyFA4XoUrkfhDECPwvUoXI8EQKRwPQrXoxZASOF6FK5HF0DD9Shcj8IYQK5H4XoUrhhAXI/C9ShcE0C4HoXrUbjuPz0K16NwPeo/UrgehetRCEDD9Shcj0IgQClcj8L1KCFAw/UoXI/CG0BmZmZmZmYgQLgehetRuPY/H4XrUbgeJEDNzMzMzMwAQFyPwvUoXAtAhetRuB6FBUCF61G4HoUmQOxRuB6F6/U/w/UoXI/CGUAAAAAAAADoP6RwPQrXoxZAw/UoXI/CG0DD9Shcj8IBQB+F61G4HgVAKVyPwvUo8D/hehSuR+HyP8P1KFyPwgVAexSuR+F6DECPwvUoXI8WQIXrUbgeBSFApHA9Ctej/D+PwvUoXI8CQI/C9Shcj/I/pHA9CtejF0AzMzMzMzMPQClcj8L1KCFAw/UoXI/CFUAUrkfhehQYQClcj8L1KNw/exSuR+F65D8fhetRuB79P+F6FK5H4R5APQrXo3A9DEA9CtejcD3+P2ZmZmZmZhFAuB6F61G4DEC4HoXrUbjyPwAAAAAAAAAAZmZmZmZmDEAK16NwPQoLQB+F61G4HgtA4XoUrkfh8j97FK5H4XrwP4XrUbgehRJAj8L1KFyPBECkcD0K16P4P4XrUbgehRJAAAAAAAAA6D/sUbgehesHQHE9CtejcAVAw/UoXI/C+T9xPQrXo3AFQI/C9ShcjwZAmpmZmZmZC0CPwvUoXI8YQM3MzMzMzAJAhetRuB6FEkAK16NwPQoJQMP1KFyPwgtAUrgehetRFUBxPQrXo3AFQAAAAAAAAAAAzczMzMzMDEAK16NwPQoJQK5H4XoUrgNAPQrXo3A9DkA9CtejcD0dQMP1KFyPwhpAj8L1KFyPBEBcj8L1KFwRQIXrUbgehQ9AmpmZmZmZ+T9xPQrXo3AFQAAAAAAAAPA/UrgehetRIUAfhetRuB75PwrXo3A9Cu8/SOF6FK5HC0CuR+F6FK7/P0jhehSuRw1A9ihcj8L1CEBcj8L1KFwHQOF6FK5H4QBAw/UoXI/CGkB7FK5H4XrwP83MzMzMzAZAFK5H4XoUIEDNzMzMzMzcP4/C9ShcjwRApHA9CtejFkDNzMzMzMwcQM3MzMzMzBBA16NwPQrX0z/D9Shcj8L9P8P1KFyPwhxAuB6F61G4BEDD9Shcj8IFQKRwPQrXo/A/H4XrUbge9T+4HoXrUbgAQB+F61G4HhFAFK5H4XoUDkDNzMzMzMzcP2ZmZmZmZgpAj8L1KFyPBEDNzMzMzMz4P4/C9ShcDyJAmpmZmZmZJUC4HoXrUbj+PwrXo3A9CgFAAAAAAAAAAAD2KFyPwvX4P65H4XoULiZAcT0K16NwC0C4HoXrUbgCQB+F61G4HgNAPQrXo3A9BEApXI/C9SgSQOxRuB6F68E/uB6F61G4CED2KFyPwnUgQHsUrkfheuw/UrgehetR4D9SuB6F61ECQClcj8L1KPA/hetRuB6FEkC4HoXrUbgIQHsUrkfhehBAUrgehetR8D8UrkfhepQkQJqZmZmZmfU/j8L1KFyPBEB7FK5H4XoQQOxRuB6F6w1Aw/UoXI9CJEAfhetRuB4LQAAAAAAAAABAMzMzMzMzwz9mZmZmZuYhQHE9CtejcBZAH4XrUbge5T97FK5H4XoMQMP1KFyPwvU/AAAAAACAIUCamZmZmZkRQM3MzMzMzBBASOF6FK5HD0DNzMzMzMzcP65H4XoUrgFAuB6F61G4EUAAAAAAAADgP+xRuB6F6+k/PQrXo3A9FkC4HoXrUbgCQIXrUbgehRJApHA9CtejIEAAAAAAAAAIQM3MzMzMzBxAuB6F61G49j+kcD0K16P4P6RwPQrXowJApHA9Ctej+D8AAAAAAAAMQHsUrkfheuw/CtejcD0KH0C4HoXrUbgIQOF6FK5H4SFA\"},\"shape\":[534],\"dtype\":\"float64\",\"order\":\"little\"}],[\"Country\",{\"type\":\"ndarray\",\"array\":[\"GQ\",\"AR\",\"US\",\"GB\",\"ZA\",\"TF\",\"US\",\"ZA\",\"AU\",\"RU\",\"PN\",\"CA\",\"SJ\",\"CA\",\"RU\",\"US\",\"CL\",\"NZ\",\"BR\",\"RU\",\"NZ\",\"AF\",\"GR\",\"BR\",\"US\",\"US\",\"PF\",\"JM\",\"RU\",\"NZ\",\"CN\",\"SH\",\"AU\",\"MV\",\"ID\",\"CD\",\"GS\",\"CA\",\"BR\",\"IN\",\"AR\",\"CN\",\"CA\",\"US\",\"RO\",\"MH\",\"IN\",\"RU\",\"US\",\"IN\",\"US\",\"IT\",\"CA\",\"RU\",\"CL\",\"BR\",\"TK\",\"CA\",\"PF\",\"US\",\"AR\",\"AU\",\"SJ\",\"US\",\"RU\",\"AR\",\"MX\",\"CC\",\"RU\",\"RU\",\"CA\",\"MU\",\"BF\",\"JP\",\"RU\",\"US\",\"PH\",\"WF\",\"AU\",\"GL\",\"RU\",\"MH\",\"US\",\"BR\",\"PH\",\"LY\",\"CL\",\"MX\",\"RU\",\"RU\",\"MR\",\"PT\",\"MG\",\"TZ\",\"IN\",\"PT\",\"MX\",\"IS\",\"CN\",\"US\",\"nan\",\"SA\",\"RU\",\"AU\",\"US\",\"RU\",\"AO\",\"US\",\"NO\",\"RU\",\"BR\",\"RU\",\"MX\",\"US\",\"IS\",\"FM\",\"RU\",\"RU\",\"WF\",\"NZ\",\"BR\",\"AE\",\"IS\",\"US\",\"NC\",\"RU\",\"RU\",\"BO\",\"NZ\",\"US\",\"US\",\"JM\",\"TD\",\"BD\",\"US\",\"FR\",\"BR\",\"CA\",\"ES\",\"EC\",\"PE\",\"LR\",\"JP\",\"RU\",\"NZ\",\"US\",\"CN\",\"CA\",\"AU\",\"CO\",\"DE\",\"KZ\",\"CK\",\"RU\",\"RU\",\"IQ\",\"LY\",\"KY\",\"IE\",\"BR\",\"BR\",\"CA\",\"ID\",\"CN\",\"AU\",\"CX\",\"BR\",\"US\",\"CN\",\"GL\",\"IN\",\"US\",\"SL\",\"CN\",\"TO\",\"CN\",\"KZ\",\"AU\",\"NO\",\"BR\",\"AU\",\"CN\",\"AO\",\"RU\",\"EC\",\"US\",\"MH\",\"BR\",\"JP\",\"CL\",\"RU\",\"RU\",\"JP\",\"RU\",\"nan\",\"MY\",\"SS\",\"GE\",\"RE\",\"PT\",\"AE\",\"BR\",\"SY\",\"GF\",\"RU\",\"PF\",\"GB\",\"MX\",\"NR\",\"MH\",\"CN\",\"DE\",\"FO\",\"RU\",\"JP\",\"CN\",\"ZA\",\"NC\",\"IR\",\"US\",\"EH\",\"ID\",\"CN\",\"NG\",\"ML\",\"CA\",\"AR\",\"CA\",\"ZA\",\"ZA\",\"LY\",\"CL\",\"RU\",\"US\",\"US\",\"CM\",\"AU\",\"RE\",\"US\",\"VN\",\"ID\",\"RU\",\"ID\",\"JP\",\"MX\",\"MG\",\"AR\",\"US\",\"CV\",\"RU\",\"AO\",\"RU\",\"AR\",\"CL\",\"KE\",\"BS\",\"CN\",\"RU\",\"IT\",\"KY\",\"NZ\",\"RU\",\"CL\",\"NZ\",\"IN\",\"SD\",\"CD\",\"AR\",\"CA\",\"MG\",\"RU\",\"CF\",\"AU\",\"UA\",\"RO\",\"CN\",\"RU\",\"AO\",\"SO\",\"CD\",\"UZ\",\"MG\",\"ID\",\"CN\",\"MV\",\"BR\",\"DZ\",\"GB\",\"SA\",\"AR\",\"BR\",\"CL\",\"CN\",\"ZA\",\"NG\",\"NP\",\"GH\",\"AR\",\"AU\",\"RU\",\"US\",\"RU\",\"PH\",\"MY\",\"US\",\"PG\",\"VU\",\"RU\",\"CO\",\"MU\",\"GB\",\"ES\",\"GF\",\"AU\",\"HT\",\"BR\",\"CN\",\"KZ\",\"CN\",\"CN\",\"RU\",\"CA\",\"TR\",\"RU\",\"US\",\"MZ\",\"KZ\",\"CN\",\"TR\",\"US\",\"TR\",\"PH\",\"US\",\"BB\",\"ID\",\"RU\",\"ID\",\"US\",\"SE\",\"DZ\",\"MG\",\"BR\",\"RU\",\"CA\",\"US\",\"HN\",\"IN\",\"JP\",\"AU\",\"UY\",\"RE\",\"RU\",\"US\",\"SO\",\"MX\",\"CA\",\"MP\",\"AS\",\"RU\",\"FM\",\"BF\",\"NG\",\"AF\",\"LR\",\"PT\",\"AU\",\"MA\",\"GU\",\"CO\",\"AU\",\"LY\",\"CN\",\"GL\",\"BR\",\"CN\",\"MN\",\"CG\",\"US\",\"IT\",\"RU\",\"ID\",\"ID\",\"TZ\",\"AU\",\"MG\",\"ZA\",\"MV\",\"US\",\"PT\",\"RU\",\"CV\",\"SO\",\"ES\",\"IS\",\"GW\",\"MN\",\"AU\",\"TZ\",\"CA\",\"US\",\"CN\",\"NG\",\"ZA\",\"ZA\",\"BR\",\"ZA\",\"BY\",\"CN\",\"GL\",\"BR\",\"BR\",\"US\",\"CA\",\"US\",\"JP\",\"TR\",\"RU\",\"TH\",\"FR\",\"MX\",\"IN\",\"NC\",\"YE\",\"NZ\",\"ZA\",\"GH\",\"BR\",\"US\",\"SE\",\"JP\",\"BR\",\"SS\",\"SO\",\"SB\",\"US\",\"US\",\"SA\",\"UZ\",\"AU\",\"FR\",\"PK\",\"RO\",\"TZ\",\"CG\",\"TD\",\"ID\",\"ZA\",\"RU\",\"IN\",\"ET\",\"CV\",\"AT\",\"GY\",\"ES\",\"AU\",\"US\",\"US\",\"BR\",\"KE\",\"MY\",\"KH\",\"UZ\",\"MX\",\"JO\",\"RU\",\"PE\",\"MA\",\"NO\",\"SD\",\"MU\",\"AU\",\"US\",\"PH\",\"PF\",\"US\",\"BN\",\"MX\",\"BR\",\"RU\",\"MH\",\"GH\",\"SD\",\"RU\",\"CN\",\"FR\",\"TL\",\"SD\",\"TC\",\"CA\",\"RE\",\"NG\",\"PH\",\"CA\",\"VU\",\"NU\",\"IN\",\"PE\",\"ZW\",\"IT\",\"BR\",\"HN\",\"MV\",\"PH\",\"MZ\",\"BR\",\"GR\",\"PG\",\"RU\",\"LR\",\"RU\",\"GB\",\"BR\",\"AR\",\"RU\",\"AU\",\"RU\",\"US\",\"IN\",\"RU\",\"AU\",\"RU\",\"US\",\"GR\",\"RU\",\"BR\",\"CN\",\"GL\",\"KZ\",\"IS\",\"CN\",\"AU\",\"AU\",\"CA\",\"NO\"],\"shape\":[534],\"dtype\":\"object\",\"order\":\"little\"}],[\"Date\",{\"type\":\"ndarray\",\"array\":{\"type\":\"bytes\",\"data\":\"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\"},\"shape\":[534],\"dtype\":\"int32\",\"order\":\"little\"}],[\"color\",{\"type\":\"ndarray\",\"array\":[\"san antonio de pale\",\"cutral-co\",\"college\",\"stanley\",\"bredasdorp\",\"port-aux-francais\",\"kodiak\",\"port elizabeth\",\"charters towers\",\"vilyuchinsk\",\"adamstown\",\"yellowknife\",\"longyearbyen\",\"thunder bay\",\"talnakh\",\"lompoc\",\"puerto natales\",\"papatowai\",\"silvania\",\"anadyr\",\"waitangi\",\"kunduz\",\"argo\",\"itamaraju\",\"wailua homesteads\",\"bethel\",\"afaahiti\",\"kingston\",\"yeniseysk\",\"dunedin\",\"hohhot\",\"edinburgh of the seven seas\",\"margaret river\",\"hithadhoo\",\"sinabang\",\"bumba\",\"grytviken\",\"princeville\",\"sao joao da barra\",\"mormugao\",\"ushuaia\",\"xiannu\",\"iqaluit\",\"laguna\",\"corbeni\",\"jabat\",\"jaisinghnagar\",\"babayevo\",\"virginia\",\"bamboo flat\",\"albany\",\"montorio al vomano\",\"whitehorse\",\"mirny\",\"lebu\",\"cidreira\",\"atafu village\",\"thompson\",\"uturoa\",\"hawaiian paradise park\",\"viedma\",\"port lincoln\",\"olonkinbyen\",\"badger\",\"tiksi\",\"el calafate\",\"progreso\",\"west island\",\"severobaykal'sk\",\"bodaybo\",\"merritt\",\"port mathurin\",\"nouna\",\"hasaki\",\"priyutovo\",\"sitka\",\"pandan\",\"leava\",\"codrington\",\"qaqortoq\",\"bilibino\",\"enewetak\",\"homestead meadows north\",\"fonte boa\",\"sitangkai\",\"ghat\",\"ancud\",\"guerrero negro\",\"tazovsky\",\"vodnyy\",\"nouadhibou\",\"ribeira grande\",\"tolanaro\",\"muriti\",\"tura\",\"vila franca do campo\",\"cabo san lucas\",\"keflavik\",\"rikaze\",\"hamilton\",\"luderitz\",\"ad dawadimi\",\"olyokminsk\",\"blackmans bay\",\"jamestown\",\"severo-yeniseyskiy\",\"namibe\",\"atlantic city\",\"hammerfest\",\"ust-nera\",\"aripuana\",\"udachny\",\"acapulco de juarez\",\"rancho palos verdes\",\"egilsstadir\",\"weno\",\"namtsy\",\"yuzhno-kurilsk\",\"mata-utu\",\"kerikeri\",\"posto fiscal rolim de moura\",\"dubai\",\"isafjordur\",\"la'ie\",\"tadine\",\"vorgashor\",\"gadzhiyevo\",\"puerto quijarro\",\"gisborne\",\"pearsall\",\"nantucket\",\"lucea\",\"ati\",\"cox's bazar\",\"kailua-kona\",\"la passe\",\"maracacume\",\"chibougamau\",\"tegueste\",\"puerto baquerizo moreno\",\"pisco\",\"fish town\",\"katsuren-haebaru\",\"kargasok\",\"invercargill\",\"fortuna\",\"shache\",\"mount pearl\",\"kununurra\",\"san andres\",\"gronau\",\"bayganin\",\"avarua\",\"petropavlovsk-kamchatsky\",\"mogocha\",\"najaf\",\"al bayda'\",\"bodden town\",\"tralee\",\"sao paulo de olivenca\",\"maceio\",\"labrador city\",\"sragen\",\"haimen\",\"maffra\",\"flying fish cove\",\"afua\",\"san patricio\",\"tongliao\",\"ilulissat\",\"gandarbal\",\"plainview\",\"freetown\",\"pulandian\",\"neiafu\",\"jinghong\",\"burunday\",\"howard springs\",\"sandnessjoen\",\"nova aurora\",\"new norfolk\",\"laojunmiao\",\"uacu cungo\",\"polyarnyy\",\"puerto ayora\",\"hilo\",\"mili\",\"canoinhas\",\"nemuro\",\"punta arenas\",\"pangody\",\"nizhnevartovsk\",\"kitakata\",\"divnogorsk\",\"walvis bay\",\"georgetown\",\"juba\",\"ozurgeti\",\"saint-pierre\",\"lagoa\",\"ar ruways\",\"cabedelo\",\"ad duraykish\",\"remire-montjoly\",\"dudinka\",\"mahina\",\"cromer\",\"rosarito\",\"yaren\",\"utrik\",\"aral\",\"colonia\",\"midvagur\",\"mezhdurechenskiy\",\"nishinoomote\",\"xishan\",\"east london\",\"kone\",\"ardestan\",\"lake havasu city\",\"dakhla\",\"ruteng\",\"leshan\",\"dukku\",\"kidal\",\"port-cartier\",\"esquel\",\"kapuskasing\",\"hermanus\",\"richards bay\",\"murzuq\",\"antofagasta\",\"nikolayevsk-on-amure\",\"pacific grove\",\"emporia\",\"ambam\",\"karratha\",\"le port\",\"keyser\",\"phan rang-thap cham\",\"tual\",\"nar'yan-mar\",\"labuan bajo\",\"hakodate\",\"isla mujeres\",\"tsiombe\",\"justo daract\",\"morehead city\",\"nova sintra\",\"nyurba\",\"luau\",\"kalevala\",\"san luis\",\"coquimbo\",\"kihancha\",\"marsh harbour\",\"ganshui\",\"iskateley\",\"carloforte\",\"west bay\",\"new plymouth\",\"usinsk\",\"chonchi\",\"greymouth\",\"howrah\",\"kutum\",\"beni\",\"cafayate\",\"gaspe\",\"antsiranana\",\"mil'kovo\",\"batangafo\",\"urangan\",\"shevchenko\",\"lucieni\",\"dadukou\",\"arkhara\",\"benguela\",\"bargaal\",\"lisala\",\"xiva\",\"toliara\",\"pemangkat\",\"kangding\",\"ugoofaaru\",\"ladario\",\"tamanrasset\",\"margate\",\"farasan\",\"puerto deseado\",\"arraial do cabo\",\"valparaiso\",\"hotan\",\"saldanha\",\"babura\",\"chinde\",\"axim\",\"vera\",\"cowra\",\"ukholovo\",\"port isabel\",\"khanty-mansiysk\",\"basco\",\"labuan\",\"minot air force base\",\"kavieng\",\"luganville\",\"magadan\",\"pizarro\",\"souillac\",\"lerwick\",\"villa del prado\",\"kourou\",\"mount gambier\",\"les cayes\",\"boa vista\",\"weihai\",\"inderbor\",\"qinzhou\",\"jiagedaqi\",\"ola\",\"dryden\",\"diyadin\",\"panino\",\"westport\",\"mutuali\",\"esil\",\"qamdo\",\"akdagmadeni\",\"yarmouth\",\"sinop\",\"kipalbig\",\"warwick\",\"bathsheba\",\"singkil\",\"yashkul'\",\"sabang\",\"dickinson\",\"landskrona\",\"sidi khaled\",\"mahanoro\",\"sao vicente\",\"nogliki\",\"la ronge\",\"lihue\",\"puerto lempira\",\"katoya\",\"nago\",\"murray bridge\",\"castillos\",\"saint-philippe\",\"lensk\",\"haiku-pauwela\",\"bandarbeyla\",\"champoton\",\"smithers\",\"saipan\",\"ta`u\",\"tarko-sale\",\"palikir - national government center\",\"ouahigouya\",\"ajaokuta\",\"anar darah\",\"monrovia\",\"praia da vitoria\",\"broken hill\",\"midelt\",\"merizo village\",\"mitu\",\"carnarvon\",\"at taj\",\"yulinshi\",\"sisimiut\",\"rio grande\",\"jiuquan\",\"saynshand\",\"ouesso\",\"pine bluff\",\"mola di bari\",\"plastun\",\"manokwari\",\"bambanglipuro\",\"liwale\",\"forster\",\"toamasina\",\"carletonville\",\"kudahuvadhoo\",\"newman\",\"lata\",\"vuktyl\",\"vila do maio\",\"berbera\",\"fisterra\",\"selfoss\",\"bubaque\",\"altai\",\"woolgoolga\",\"inyonga\",\"st. john's\",\"hailey\",\"zhaotong\",\"kumagunnam\",\"plettenberg bay\",\"queenstown\",\"altamira\",\"kruisfontein\",\"ushachy\",\"hami\",\"aasiaat\",\"itaituba\",\"fortaleza\",\"kapa'a\",\"flin flon\",\"fort bragg\",\"naze\",\"agacoren\",\"ishim\",\"kaeng khro\",\"blaye\",\"ciudad madero\",\"pali\",\"noumea\",\"al ghayzah\",\"christchurch\",\"port alfred\",\"mumford\",\"nova vicosa\",\"portland\",\"ostersund\",\"itoman\",\"aguas vermelhas\",\"kuacjok\",\"hargeysa\",\"gizo\",\"socorro\",\"palmer\",\"al jawf\",\"gazli\",\"byron bay\",\"six-fours-les-plages\",\"dalbandin\",\"constantia\",\"matai\",\"makoua\",\"faya-largeau\",\"ternate\",\"cullinan\",\"knyaze-volkonskoye\",\"seven pagodas\",\"inda silase\",\"praia\",\"tulln\",\"lethem\",\"andratx\",\"ashburton\",\"broome\",\"miles city\",\"vila velha\",\"lodwar\",\"kapit\",\"kampong chhnang\",\"kegeyli shahar\",\"ciudad cuauhtemoc\",\"karak city\",\"podporozh'ye\",\"picota\",\"taounate\",\"odda\",\"nyala\",\"grand baie\",\"maryborough\",\"homer\",\"kinablangan\",\"papao\",\"wichita falls\",\"kuala belait\",\"san luis de la loma\",\"parauapebas\",\"tevriz\",\"mejit\",\"takoradi\",\"talodi\",\"polovinnoye\",\"baoqing\",\"perigueux\",\"lospalos\",\"abu jibeha\",\"cockburn town\",\"grand falls-windsor\",\"sainte-suzanne\",\"tegina\",\"bontoc\",\"fort st. john\",\"isangel\",\"alofi\",\"ambah\",\"pimentel\",\"mhangura\",\"valderice\",\"lauro de freitas\",\"marcala\",\"kulhudhuffushi\",\"roxas\",\"mocimboa\",\"estrela\",\"nea kallikrateia\",\"lorengau\",\"novyye lyady\",\"harper\",\"kosikha\",\"sleaford\",\"prado\",\"crucecita\",\"labytnangi\",\"kiama\",\"aykhal\",\"crane\",\"ponnani\",\"suksun\",\"emerald\",\"sharlyk\",\"santa ana\",\"argostolion\",\"belyy yar\",\"santana\",\"tahe\",\"nuuk\",\"burabay\",\"akureyri\",\"zhaoyuan\",\"goulburn\",\"yeppoon\",\"yorkton\",\"harstad\"],\"shape\":[534],\"dtype\":\"object\",\"order\":\"little\"}],[\"size\",{\"type\":\"ndarray\",\"array\":{\"type\":\"bytes\",\"data\":\"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\"},\"shape\":[534],\"dtype\":\"float64\",\"order\":\"little\"}]]}}},\"view\":{\"type\":\"object\",\"name\":\"CDSView\",\"id\":\"p1076\",\"attributes\":{\"filter\":{\"type\":\"object\",\"name\":\"AllIndices\",\"id\":\"p1077\"}}},\"glyph\":{\"type\":\"object\",\"name\":\"Scatter\",\"id\":\"p1070\",\"attributes\":{\"tags\":[\"apply_ranges\"],\"x\":{\"type\":\"field\",\"field\":\"Lng\"},\"y\":{\"type\":\"field\",\"field\":\"Lat\"},\"size\":{\"type\":\"field\",\"field\":\"size\"},\"line_color\":{\"type\":\"field\",\"field\":\"color\",\"transform\":{\"type\":\"object\",\"name\":\"CategoricalColorMapper\",\"id\":\"p1063\",\"attributes\":{\"palette\":[\"#1f77b3\",\"#ff7e0e\",\"#2ba02b\",\"#d62628\",\"#9367bc\",\"#8c564b\",\"#e277c1\",\"#7e7e7e\",\"#bcbc21\",\"#16bdcf\",\"#3a0182\",\"#004201\",\"#0fffa8\",\"#5d003f\",\"#bcbcff\",\"#d8afa1\",\"#b80080\",\"#004d52\",\"#6b6400\",\"#7c0100\",\"#6026ff\",\"#ffff9a\",\"#564964\",\"#8cb893\",\"#93fbff\",\"#018267\",\"#90ff00\",\"#8200a0\",\"#ac8944\",\"#5b3400\",\"#ffbff2\",\"#ff6e75\",\"#798cff\",\"#dd00ff\",\"#505646\",\"#004489\",\"#ffbf60\",\"#ff018c\",\"#bdc8cf\",\"#af97b5\",\"#b65600\",\"#017000\",\"#cd87ff\",\"#1cd646\",\"#bfebc3\",\"#7997b5\",\"#a56089\",\"#6e8956\",\"#bc7c75\",\"#8a2844\",\"#00acff\",\"#8ed4ff\",\"#4b6d77\",\"#00d4b1\",\"#9300f2\",\"#8a9500\",\"#5d5b9e\",\"#fddfba\",\"#00939e\",\"#ffdb00\",\"#00aa79\",\"#520067\",\"#000091\",\"#0a5d3d\",\"#a5e275\",\"#623b41\",\"#c6c689\",\"#ff9eb5\",\"#cd4f6b\",\"#ff07d6\",\"#8a3a05\",\"#7e3d70\",\"#ff4901\",\"#602ba5\",\"#1c00ff\",\"#e6dfff\",\"#aa3baf\",\"#d89c00\",\"#a3a39e\",\"#3f69ff\",\"#46490c\",\"#7b6985\",\"#6b978c\",\"#ff9a75\",\"#835bff\",\"#7c6b46\",\"#80b654\",\"#bc0049\",\"#fd93ff\",\"#5d0018\",\"#89d1d1\",\"#9c8cd3\",\"#da6d42\",\"#8a5700\",\"#3b5069\",\"#4b6b3b\",\"#edcfd8\",\"#cfedff\",\"#aa1500\",\"#dfff4f\",\"#ff2a56\",\"#d1499e\",\"#707cb8\",\"#598000\",\"#00e4fd\",\"#774b95\",\"#67d48c\",\"#3d3a72\",\"#ac413f\",\"#d6a166\",\"#c169cd\",\"#69595d\",\"#87aced\",\"#a0a569\",\"#d1aae6\",\"#870062\",\"#00fddb\",\"#672818\",\"#b342ff\",\"#0e59c4\",\"#168742\",\"#90d300\",\"#cd7900\",\"#f959ff\",\"#5b7466\",\"#8eaeb3\",\"#9c7c8c\",\"#4600c6\",\"#6b4d2d\",\"#a56d46\",\"#9e8972\",\"#a8afca\",\"#cd8ca7\",\"#00fd64\",\"#917900\",\"#ff62a1\",\"#f4ffd8\",\"#018cf0\",\"#13aca0\",\"#5b2d59\",\"#89859e\",\"#cfccba\",\"#d4afc4\",\"#dbdd6d\",\"#cffff4\",\"#006485\",\"#006962\",\"#a84167\",\"#2d97c4\",\"#a874ff\",\"#26ba5d\",\"#57b600\",\"#caffa7\",\"#a379aa\",\"#ffbc93\",\"#89e2c1\",\"#0fc8ff\",\"#d400c4\",\"#626d89\",\"#69858e\",\"#4b4d52\",\"#aa6067\",\"#79b5d4\",\"#2b5916\",\"#9a0024\",\"#bdd1f2\",\"#896e67\",\"#69a56b\",\"#855467\",\"#aecdba\",\"#87997e\",\"#cadb00\",\"#9a0390\",\"#ebbc1a\",\"#eb9cd1\",\"#70006e\",\"#b1a131\",\"#ca6b93\",\"#4146a3\",\"#e48c89\",\"#d44400\",\"#c68aca\",\"#b69597\",\"#d41f75\",\"#724bcc\",\"#674d00\",\"#672138\",\"#38564f\",\"#6ebaaa\",\"#853a31\",\"#a5d397\",\"#b8af8e\",\"#d8e4df\",\"#aa00df\",\"#cac1db\",\"#ffdf8c\",\"#e2524d\",\"#66696e\",\"#ff001c\",\"#522d72\",\"#4d906b\",\"#a86d11\",\"#ff9e26\",\"#5ea3af\",\"#c88556\",\"#915997\",\"#a3a1ff\",\"#fdbaba\",\"#242a87\",\"#dbe6a8\",\"#97f2a7\",\"#6793d6\",\"#ba5b3f\",\"#3a5d91\",\"#364f2f\",\"#267c95\",\"#89959a\",\"#cfb356\",\"#004664\",\"#5e5d2f\",\"#8e8e41\",\"#ac3f13\",\"#69953b\",\"#a13d85\",\"#bfb6ba\",\"#acc667\",\"#6469cf\",\"#91af00\",\"#2be2da\",\"#016e36\",\"#ff7952\",\"#42807e\",\"#4fe800\",\"#995428\",\"#5d0a00\",\"#a30057\",\"#0c8700\",\"#5982a7\",\"#ffebfb\",\"#4b6901\",\"#8775d4\",\"#e6c6ff\",\"#a5ffda\",\"#d86e77\",\"#df014b\",\"#69675b\",\"#776ba1\",\"#7e8067\",\"#594685\",\"#0000ca\",\"#7c002a\",\"#97ff72\",\"#b5e2e1\",\"#db52c8\",\"#777734\",\"#57bd8e\",\"#1f77b3\",\"#ff7e0e\",\"#2ba02b\",\"#d62628\",\"#9367bc\",\"#8c564b\",\"#e277c1\",\"#7e7e7e\",\"#bcbc21\",\"#16bdcf\",\"#3a0182\",\"#004201\",\"#0fffa8\",\"#5d003f\",\"#bcbcff\",\"#d8afa1\",\"#b80080\",\"#004d52\",\"#6b6400\",\"#7c0100\",\"#6026ff\",\"#ffff9a\",\"#564964\",\"#8cb893\",\"#93fbff\",\"#018267\",\"#90ff00\",\"#8200a0\",\"#ac8944\",\"#5b3400\",\"#ffbff2\",\"#ff6e75\",\"#798cff\",\"#dd00ff\",\"#505646\",\"#004489\",\"#ffbf60\",\"#ff018c\",\"#bdc8cf\",\"#af97b5\",\"#b65600\",\"#017000\",\"#cd87ff\",\"#1cd646\",\"#bfebc3\",\"#7997b5\",\"#a56089\",\"#6e8956\",\"#bc7c75\",\"#8a2844\",\"#00acff\",\"#8ed4ff\",\"#4b6d77\",\"#00d4b1\",\"#9300f2\",\"#8a9500\",\"#5d5b9e\",\"#fddfba\",\"#00939e\",\"#ffdb00\",\"#00aa79\",\"#520067\",\"#000091\",\"#0a5d3d\",\"#a5e275\",\"#623b41\",\"#c6c689\",\"#ff9eb5\",\"#cd4f6b\",\"#ff07d6\",\"#8a3a05\",\"#7e3d70\",\"#ff4901\",\"#602ba5\",\"#1c00ff\",\"#e6dfff\",\"#aa3baf\",\"#d89c00\",\"#a3a39e\",\"#3f69ff\",\"#46490c\",\"#7b6985\",\"#6b978c\",\"#ff9a75\",\"#835bff\",\"#7c6b46\",\"#80b654\",\"#bc0049\",\"#fd93ff\",\"#5d0018\",\"#89d1d1\",\"#9c8cd3\",\"#da6d42\",\"#8a5700\",\"#3b5069\",\"#4b6b3b\",\"#edcfd8\",\"#cfedff\",\"#aa1500\",\"#dfff4f\",\"#ff2a56\",\"#d1499e\",\"#707cb8\",\"#598000\",\"#00e4fd\",\"#774b95\",\"#67d48c\",\"#3d3a72\",\"#ac413f\",\"#d6a166\",\"#c169cd\",\"#69595d\",\"#87aced\",\"#a0a569\",\"#d1aae6\",\"#870062\",\"#00fddb\",\"#672818\",\"#b342ff\",\"#0e59c4\",\"#168742\",\"#90d300\",\"#cd7900\",\"#f959ff\",\"#5b7466\",\"#8eaeb3\",\"#9c7c8c\",\"#4600c6\",\"#6b4d2d\",\"#a56d46\",\"#9e8972\",\"#a8afca\",\"#cd8ca7\",\"#00fd64\",\"#917900\",\"#ff62a1\",\"#f4ffd8\",\"#018cf0\",\"#13aca0\",\"#5b2d59\",\"#89859e\",\"#cfccba\",\"#d4afc4\",\"#dbdd6d\",\"#cffff4\",\"#006485\",\"#006962\",\"#a84167\",\"#2d97c4\",\"#a874ff\",\"#26ba5d\",\"#57b600\",\"#caffa7\",\"#a379aa\",\"#ffbc93\",\"#89e2c1\",\"#0fc8ff\",\"#d400c4\",\"#626d89\",\"#69858e\",\"#4b4d52\",\"#aa6067\",\"#79b5d4\",\"#2b5916\",\"#9a0024\",\"#bdd1f2\",\"#896e67\",\"#69a56b\",\"#855467\",\"#aecdba\",\"#87997e\",\"#cadb00\",\"#9a0390\",\"#ebbc1a\",\"#eb9cd1\",\"#70006e\",\"#b1a131\",\"#ca6b93\",\"#4146a3\",\"#e48c89\",\"#d44400\",\"#c68aca\",\"#b69597\",\"#d41f75\",\"#724bcc\",\"#674d00\",\"#672138\",\"#38564f\",\"#6ebaaa\",\"#853a31\",\"#a5d397\",\"#b8af8e\",\"#d8e4df\",\"#aa00df\",\"#cac1db\",\"#ffdf8c\",\"#e2524d\",\"#66696e\",\"#ff001c\",\"#522d72\",\"#4d906b\",\"#a86d11\",\"#ff9e26\",\"#5ea3af\",\"#c88556\",\"#915997\",\"#a3a1ff\",\"#fdbaba\",\"#242a87\",\"#dbe6a8\",\"#97f2a7\",\"#6793d6\",\"#ba5b3f\",\"#3a5d91\",\"#364f2f\",\"#267c95\",\"#89959a\",\"#cfb356\",\"#004664\",\"#5e5d2f\",\"#8e8e41\",\"#ac3f13\",\"#69953b\",\"#a13d85\",\"#bfb6ba\",\"#acc667\",\"#6469cf\",\"#91af00\",\"#2be2da\",\"#016e36\",\"#ff7952\",\"#42807e\",\"#4fe800\",\"#995428\",\"#5d0a00\",\"#a30057\",\"#0c8700\",\"#5982a7\",\"#ffebfb\",\"#4b6901\",\"#8775d4\",\"#e6c6ff\",\"#a5ffda\",\"#d86e77\",\"#df014b\",\"#69675b\",\"#776ba1\",\"#7e8067\",\"#594685\",\"#0000ca\",\"#7c002a\",\"#97ff72\",\"#b5e2e1\",\"#db52c8\",\"#777734\",\"#57bd8e\",\"#1f77b3\",\"#ff7e0e\",\"#2ba02b\",\"#d62628\",\"#9367bc\",\"#8c564b\",\"#e277c1\",\"#7e7e7e\",\"#bcbc21\",\"#16bdcf\",\"#3a0182\",\"#004201\",\"#0fffa8\",\"#5d003f\",\"#bcbcff\",\"#d8afa1\",\"#b80080\",\"#004d52\",\"#6b6400\",\"#7c0100\",\"#6026ff\",\"#ffff9a\"],\"factors\":[\"san antonio de pale\",\"cutral-co\",\"college\",\"stanley\",\"bredasdorp\",\"port-aux-francais\",\"kodiak\",\"port elizabeth\",\"charters towers\",\"vilyuchinsk\",\"adamstown\",\"yellowknife\",\"longyearbyen\",\"thunder bay\",\"talnakh\",\"lompoc\",\"puerto natales\",\"papatowai\",\"silvania\",\"anadyr\",\"waitangi\",\"kunduz\",\"argo\",\"itamaraju\",\"wailua homesteads\",\"bethel\",\"afaahiti\",\"kingston\",\"yeniseysk\",\"dunedin\",\"hohhot\",\"edinburgh of the seven seas\",\"margaret river\",\"hithadhoo\",\"sinabang\",\"bumba\",\"grytviken\",\"princeville\",\"sao joao da barra\",\"mormugao\",\"ushuaia\",\"xiannu\",\"iqaluit\",\"laguna\",\"corbeni\",\"jabat\",\"jaisinghnagar\",\"babayevo\",\"virginia\",\"bamboo flat\",\"albany\",\"montorio al vomano\",\"whitehorse\",\"mirny\",\"lebu\",\"cidreira\",\"atafu village\",\"thompson\",\"uturoa\",\"hawaiian paradise park\",\"viedma\",\"port lincoln\",\"olonkinbyen\",\"badger\",\"tiksi\",\"el calafate\",\"progreso\",\"west island\",\"severobaykal'sk\",\"bodaybo\",\"merritt\",\"port mathurin\",\"nouna\",\"hasaki\",\"priyutovo\",\"sitka\",\"pandan\",\"leava\",\"codrington\",\"qaqortoq\",\"bilibino\",\"enewetak\",\"homestead meadows north\",\"fonte boa\",\"sitangkai\",\"ghat\",\"ancud\",\"guerrero negro\",\"tazovsky\",\"vodnyy\",\"nouadhibou\",\"ribeira grande\",\"tolanaro\",\"muriti\",\"tura\",\"vila franca do campo\",\"cabo san lucas\",\"keflavik\",\"rikaze\",\"hamilton\",\"luderitz\",\"ad dawadimi\",\"olyokminsk\",\"blackmans bay\",\"jamestown\",\"severo-yeniseyskiy\",\"namibe\",\"atlantic city\",\"hammerfest\",\"ust-nera\",\"aripuana\",\"udachny\",\"acapulco de juarez\",\"rancho palos verdes\",\"egilsstadir\",\"weno\",\"namtsy\",\"yuzhno-kurilsk\",\"mata-utu\",\"kerikeri\",\"posto fiscal rolim de moura\",\"dubai\",\"isafjordur\",\"la'ie\",\"tadine\",\"vorgashor\",\"gadzhiyevo\",\"puerto quijarro\",\"gisborne\",\"pearsall\",\"nantucket\",\"lucea\",\"ati\",\"cox's bazar\",\"kailua-kona\",\"la passe\",\"maracacume\",\"chibougamau\",\"tegueste\",\"puerto baquerizo moreno\",\"pisco\",\"fish town\",\"katsuren-haebaru\",\"kargasok\",\"invercargill\",\"fortuna\",\"shache\",\"mount pearl\",\"kununurra\",\"san andres\",\"gronau\",\"bayganin\",\"avarua\",\"petropavlovsk-kamchatsky\",\"mogocha\",\"najaf\",\"al bayda'\",\"bodden town\",\"tralee\",\"sao paulo de olivenca\",\"maceio\",\"labrador city\",\"sragen\",\"haimen\",\"maffra\",\"flying fish cove\",\"afua\",\"san patricio\",\"tongliao\",\"ilulissat\",\"gandarbal\",\"plainview\",\"freetown\",\"pulandian\",\"neiafu\",\"jinghong\",\"burunday\",\"howard springs\",\"sandnessjoen\",\"nova aurora\",\"new norfolk\",\"laojunmiao\",\"uacu cungo\",\"polyarnyy\",\"puerto ayora\",\"hilo\",\"mili\",\"canoinhas\",\"nemuro\",\"punta arenas\",\"pangody\",\"nizhnevartovsk\",\"kitakata\",\"divnogorsk\",\"walvis bay\",\"georgetown\",\"juba\",\"ozurgeti\",\"saint-pierre\",\"lagoa\",\"ar ruways\",\"cabedelo\",\"ad duraykish\",\"remire-montjoly\",\"dudinka\",\"mahina\",\"cromer\",\"rosarito\",\"yaren\",\"utrik\",\"aral\",\"colonia\",\"midvagur\",\"mezhdurechenskiy\",\"nishinoomote\",\"xishan\",\"east london\",\"kone\",\"ardestan\",\"lake havasu city\",\"dakhla\",\"ruteng\",\"leshan\",\"dukku\",\"kidal\",\"port-cartier\",\"esquel\",\"kapuskasing\",\"hermanus\",\"richards bay\",\"murzuq\",\"antofagasta\",\"nikolayevsk-on-amure\",\"pacific grove\",\"emporia\",\"ambam\",\"karratha\",\"le port\",\"keyser\",\"phan rang-thap cham\",\"tual\",\"nar'yan-mar\",\"labuan bajo\",\"hakodate\",\"isla mujeres\",\"tsiombe\",\"justo daract\",\"morehead city\",\"nova sintra\",\"nyurba\",\"luau\",\"kalevala\",\"san luis\",\"coquimbo\",\"kihancha\",\"marsh harbour\",\"ganshui\",\"iskateley\",\"carloforte\",\"west bay\",\"new plymouth\",\"usinsk\",\"chonchi\",\"greymouth\",\"howrah\",\"kutum\",\"beni\",\"cafayate\",\"gaspe\",\"antsiranana\",\"mil'kovo\",\"batangafo\",\"urangan\",\"shevchenko\",\"lucieni\",\"dadukou\",\"arkhara\",\"benguela\",\"bargaal\",\"lisala\",\"xiva\",\"toliara\",\"pemangkat\",\"kangding\",\"ugoofaaru\",\"ladario\",\"tamanrasset\",\"margate\",\"farasan\",\"puerto deseado\",\"arraial do cabo\",\"valparaiso\",\"hotan\",\"saldanha\",\"babura\",\"chinde\",\"axim\",\"vera\",\"cowra\",\"ukholovo\",\"port isabel\",\"khanty-mansiysk\",\"basco\",\"labuan\",\"minot air force base\",\"kavieng\",\"luganville\",\"magadan\",\"pizarro\",\"souillac\",\"lerwick\",\"villa del prado\",\"kourou\",\"mount gambier\",\"les cayes\",\"boa vista\",\"weihai\",\"inderbor\",\"qinzhou\",\"jiagedaqi\",\"ola\",\"dryden\",\"diyadin\",\"panino\",\"westport\",\"mutuali\",\"esil\",\"qamdo\",\"akdagmadeni\",\"yarmouth\",\"sinop\",\"kipalbig\",\"warwick\",\"bathsheba\",\"singkil\",\"yashkul'\",\"sabang\",\"dickinson\",\"landskrona\",\"sidi khaled\",\"mahanoro\",\"sao vicente\",\"nogliki\",\"la ronge\",\"lihue\",\"puerto lempira\",\"katoya\",\"nago\",\"murray bridge\",\"castillos\",\"saint-philippe\",\"lensk\",\"haiku-pauwela\",\"bandarbeyla\",\"champoton\",\"smithers\",\"saipan\",\"ta`u\",\"tarko-sale\",\"palikir - national government center\",\"ouahigouya\",\"ajaokuta\",\"anar darah\",\"monrovia\",\"praia da vitoria\",\"broken hill\",\"midelt\",\"merizo village\",\"mitu\",\"carnarvon\",\"at taj\",\"yulinshi\",\"sisimiut\",\"rio grande\",\"jiuquan\",\"saynshand\",\"ouesso\",\"pine bluff\",\"mola di bari\",\"plastun\",\"manokwari\",\"bambanglipuro\",\"liwale\",\"forster\",\"toamasina\",\"carletonville\",\"kudahuvadhoo\",\"newman\",\"lata\",\"vuktyl\",\"vila do maio\",\"berbera\",\"fisterra\",\"selfoss\",\"bubaque\",\"altai\",\"woolgoolga\",\"inyonga\",\"st. john's\",\"hailey\",\"zhaotong\",\"kumagunnam\",\"plettenberg bay\",\"queenstown\",\"altamira\",\"kruisfontein\",\"ushachy\",\"hami\",\"aasiaat\",\"itaituba\",\"fortaleza\",\"kapa'a\",\"flin flon\",\"fort bragg\",\"naze\",\"agacoren\",\"ishim\",\"kaeng khro\",\"blaye\",\"ciudad madero\",\"pali\",\"noumea\",\"al ghayzah\",\"christchurch\",\"port alfred\",\"mumford\",\"nova vicosa\",\"portland\",\"ostersund\",\"itoman\",\"aguas vermelhas\",\"kuacjok\",\"hargeysa\",\"gizo\",\"socorro\",\"palmer\",\"al jawf\",\"gazli\",\"byron bay\",\"six-fours-les-plages\",\"dalbandin\",\"constantia\",\"matai\",\"makoua\",\"faya-largeau\",\"ternate\",\"cullinan\",\"knyaze-volkonskoye\",\"seven pagodas\",\"inda silase\",\"praia\",\"tulln\",\"lethem\",\"andratx\",\"ashburton\",\"broome\",\"miles city\",\"vila velha\",\"lodwar\",\"kapit\",\"kampong chhnang\",\"kegeyli shahar\",\"ciudad cuauhtemoc\",\"karak city\",\"podporozh'ye\",\"picota\",\"taounate\",\"odda\",\"nyala\",\"grand baie\",\"maryborough\",\"homer\",\"kinablangan\",\"papao\",\"wichita falls\",\"kuala belait\",\"san luis de la loma\",\"parauapebas\",\"tevriz\",\"mejit\",\"takoradi\",\"talodi\",\"polovinnoye\",\"baoqing\",\"perigueux\",\"lospalos\",\"abu jibeha\",\"cockburn town\",\"grand falls-windsor\",\"sainte-suzanne\",\"tegina\",\"bontoc\",\"fort st. john\",\"isangel\",\"alofi\",\"ambah\",\"pimentel\",\"mhangura\",\"valderice\",\"lauro de freitas\",\"marcala\",\"kulhudhuffushi\",\"roxas\",\"mocimboa\",\"estrela\",\"nea kallikrateia\",\"lorengau\",\"novyye lyady\",\"harper\",\"kosikha\",\"sleaford\",\"prado\",\"crucecita\",\"labytnangi\",\"kiama\",\"aykhal\",\"crane\",\"ponnani\",\"suksun\",\"emerald\",\"sharlyk\",\"santa ana\",\"argostolion\",\"belyy yar\",\"santana\",\"tahe\",\"nuuk\",\"burabay\",\"akureyri\",\"zhaoyuan\",\"goulburn\",\"yeppoon\",\"yorkton\",\"harstad\"]}}},\"fill_color\":{\"type\":\"field\",\"field\":\"color\",\"transform\":{\"id\":\"p1063\"}},\"hatch_color\":{\"type\":\"field\",\"field\":\"color\",\"transform\":{\"id\":\"p1063\"}}}},\"selection_glyph\":{\"type\":\"object\",\"name\":\"Scatter\",\"id\":\"p1072\",\"attributes\":{\"tags\":[\"apply_ranges\"],\"x\":{\"type\":\"field\",\"field\":\"Lng\"},\"y\":{\"type\":\"field\",\"field\":\"Lat\"},\"size\":{\"type\":\"field\",\"field\":\"size\"},\"line_color\":{\"type\":\"field\",\"field\":\"color\",\"transform\":{\"id\":\"p1063\"}},\"fill_color\":{\"type\":\"field\",\"field\":\"color\",\"transform\":{\"id\":\"p1063\"}},\"hatch_color\":{\"type\":\"field\",\"field\":\"color\",\"transform\":{\"id\":\"p1063\"}}}},\"nonselection_glyph\":{\"type\":\"object\",\"name\":\"Scatter\",\"id\":\"p1071\",\"attributes\":{\"tags\":[\"apply_ranges\"],\"x\":{\"type\":\"field\",\"field\":\"Lng\"},\"y\":{\"type\":\"field\",\"field\":\"Lat\"},\"size\":{\"type\":\"field\",\"field\":\"size\"},\"line_color\":{\"type\":\"field\",\"field\":\"color\",\"transform\":{\"id\":\"p1063\"}},\"line_alpha\":{\"type\":\"value\",\"value\":0.1},\"fill_color\":{\"type\":\"field\",\"field\":\"color\",\"transform\":{\"id\":\"p1063\"}},\"fill_alpha\":{\"type\":\"value\",\"value\":0.1},\"hatch_color\":{\"type\":\"field\",\"field\":\"color\",\"transform\":{\"id\":\"p1063\"}},\"hatch_alpha\":{\"type\":\"value\",\"value\":0.1}}},\"hover_glyph\":{\"type\":\"object\",\"name\":\"Scatter\",\"id\":\"p1073\",\"attributes\":{\"tags\":[\"apply_ranges\"],\"x\":{\"type\":\"field\",\"field\":\"Lng\"},\"y\":{\"type\":\"field\",\"field\":\"Lat\"},\"size\":{\"type\":\"field\",\"field\":\"size\"},\"line_color\":{\"type\":\"field\",\"field\":\"color\",\"transform\":{\"id\":\"p1063\"}},\"fill_color\":{\"type\":\"field\",\"field\":\"color\",\"transform\":{\"id\":\"p1063\"}},\"hatch_color\":{\"type\":\"field\",\"field\":\"color\",\"transform\":{\"id\":\"p1063\"}}}},\"muted_glyph\":{\"type\":\"object\",\"name\":\"Scatter\",\"id\":\"p1074\",\"attributes\":{\"tags\":[\"apply_ranges\"],\"x\":{\"type\":\"field\",\"field\":\"Lng\"},\"y\":{\"type\":\"field\",\"field\":\"Lat\"},\"size\":{\"type\":\"field\",\"field\":\"size\"},\"line_color\":{\"type\":\"field\",\"field\":\"color\",\"transform\":{\"id\":\"p1063\"}},\"line_alpha\":{\"type\":\"value\",\"value\":0.2},\"fill_color\":{\"type\":\"field\",\"field\":\"color\",\"transform\":{\"id\":\"p1063\"}},\"fill_alpha\":{\"type\":\"value\",\"value\":0.2},\"hatch_color\":{\"type\":\"field\",\"field\":\"color\",\"transform\":{\"id\":\"p1063\"}},\"hatch_alpha\":{\"type\":\"value\",\"value\":0.2}}}}}],\"toolbar\":{\"type\":\"object\",\"name\":\"Toolbar\",\"id\":\"p1035\",\"attributes\":{\"tools\":[{\"type\":\"object\",\"name\":\"WheelZoomTool\",\"id\":\"p1021\",\"attributes\":{\"tags\":[\"hv_created\"],\"zoom_on_axis\":false,\"zoom_together\":\"none\"}},{\"type\":\"object\",\"name\":\"HoverTool\",\"id\":\"p1025\",\"attributes\":{\"tags\":[\"hv_created\"],\"renderers\":[{\"id\":\"p1075\"}],\"tooltips\":[[\"Lng\",\"$x{custom}\"],[\"Lat\",\"$y{custom}\"],[\"City\",\"@{City}\"],[\"Humidity\",\"@{Humidity}\"],[\"index\",\"@{index}\"],[\"City_ID\",\"@{City_ID}\"],[\"Max Temp\",\"@{Max_Temp}\"],[\"Cloudiness\",\"@{Cloudiness}\"],[\"Wind Speed\",\"@{Wind_Speed}\"],[\"Country\",\"@{Country}\"],[\"Date\",\"@{Date}\"]],\"formatters\":{\"type\":\"map\",\"entries\":[[\"$x\",{\"type\":\"object\",\"name\":\"CustomJSHover\",\"id\":\"p1080\",\"attributes\":{\"code\":\"\\n        const projections = Bokeh.require(\\\"core/util/projections\\\");\\n        const {snap_x, snap_y} = special_vars\\n        const coords = projections.wgs84_mercator.invert(snap_x, snap_y)\\n        return \\\"\\\" + (coords[0]).toFixed(4)\\n    \"}}],[\"$y\",{\"type\":\"object\",\"name\":\"CustomJSHover\",\"id\":\"p1081\",\"attributes\":{\"code\":\"\\n        const projections = Bokeh.require(\\\"core/util/projections\\\");\\n        const {snap_x, snap_y} = special_vars\\n        const coords = projections.wgs84_mercator.invert(snap_x, snap_y)\\n        return \\\"\\\" + (coords[1]).toFixed(4)\\n    \"}}]]}}},{\"type\":\"object\",\"name\":\"SaveTool\",\"id\":\"p1048\"},{\"type\":\"object\",\"name\":\"PanTool\",\"id\":\"p1049\"},{\"type\":\"object\",\"name\":\"BoxZoomTool\",\"id\":\"p1050\",\"attributes\":{\"overlay\":{\"type\":\"object\",\"name\":\"BoxAnnotation\",\"id\":\"p1051\",\"attributes\":{\"syncable\":false,\"level\":\"overlay\",\"visible\":false,\"left_units\":\"canvas\",\"right_units\":\"canvas\",\"bottom_units\":\"canvas\",\"top_units\":\"canvas\",\"line_color\":\"black\",\"line_alpha\":1.0,\"line_width\":2,\"line_dash\":[4,4],\"fill_color\":\"lightgrey\",\"fill_alpha\":0.5}},\"match_aspect\":true}},{\"type\":\"object\",\"name\":\"ResetTool\",\"id\":\"p1052\"}],\"active_drag\":{\"id\":\"p1049\"}}},\"left\":[{\"type\":\"object\",\"name\":\"LinearAxis\",\"id\":\"p1043\",\"attributes\":{\"ticker\":{\"type\":\"object\",\"name\":\"MercatorTicker\",\"id\":\"p1055\",\"attributes\":{\"mantissas\":[1,2,5],\"dimension\":\"lat\"}},\"formatter\":{\"type\":\"object\",\"name\":\"MercatorTickFormatter\",\"id\":\"p1056\",\"attributes\":{\"dimension\":\"lat\"}},\"axis_label\":\"y\",\"major_label_policy\":{\"type\":\"object\",\"name\":\"AllLabels\",\"id\":\"p1046\"}}}],\"right\":[{\"type\":\"object\",\"name\":\"Legend\",\"id\":\"p1078\",\"attributes\":{\"location\":[0,0],\"click_policy\":\"mute\",\"items\":[{\"type\":\"object\",\"name\":\"LegendItem\",\"id\":\"p1079\",\"attributes\":{\"label\":{\"type\":\"field\",\"field\":\"color\"},\"renderers\":[{\"id\":\"p1075\"}]}}]}}],\"below\":[{\"type\":\"object\",\"name\":\"LinearAxis\",\"id\":\"p1038\",\"attributes\":{\"ticker\":{\"type\":\"object\",\"name\":\"MercatorTicker\",\"id\":\"p1053\",\"attributes\":{\"mantissas\":[1,2,5],\"dimension\":\"lon\"}},\"formatter\":{\"type\":\"object\",\"name\":\"MercatorTickFormatter\",\"id\":\"p1054\",\"attributes\":{\"dimension\":\"lon\"}},\"axis_label\":\"x\",\"major_label_policy\":{\"type\":\"object\",\"name\":\"AllLabels\",\"id\":\"p1041\"}}}],\"center\":[{\"type\":\"object\",\"name\":\"Grid\",\"id\":\"p1042\",\"attributes\":{\"axis\":{\"id\":\"p1038\"},\"grid_line_color\":null}},{\"type\":\"object\",\"name\":\"Grid\",\"id\":\"p1047\",\"attributes\":{\"dimension\":1,\"axis\":{\"id\":\"p1043\"},\"grid_line_color\":null}}],\"frame_width\":800,\"frame_height\":600,\"min_border_top\":10,\"min_border_bottom\":10,\"min_border_left\":10,\"min_border_right\":10,\"output_backend\":\"webgl\",\"match_aspect\":true}},{\"type\":\"object\",\"name\":\"Spacer\",\"id\":\"p1083\",\"attributes\":{\"name\":\"HSpacer01602\",\"stylesheets\":[\"\\n:host(.pn-loading.pn-arc):before, .pn-loading.pn-arc:before {\\n  background-image: url(\\\"data:image/svg+xml;base64,PHN2ZyB4bWxucz0iaHR0cDovL3d3dy53My5vcmcvMjAwMC9zdmciIHN0eWxlPSJtYXJnaW46IGF1dG87IGJhY2tncm91bmQ6IG5vbmU7IGRpc3BsYXk6IGJsb2NrOyBzaGFwZS1yZW5kZXJpbmc6IGF1dG87IiB2aWV3Qm94PSIwIDAgMTAwIDEwMCIgcHJlc2VydmVBc3BlY3RSYXRpbz0ieE1pZFlNaWQiPiAgPGNpcmNsZSBjeD0iNTAiIGN5PSI1MCIgZmlsbD0ibm9uZSIgc3Ryb2tlPSIjYzNjM2MzIiBzdHJva2Utd2lkdGg9IjEwIiByPSIzNSIgc3Ryb2tlLWRhc2hhcnJheT0iMTY0LjkzMzYxNDMxMzQ2NDE1IDU2Ljk3Nzg3MTQzNzgyMTM4Ij4gICAgPGFuaW1hdGVUcmFuc2Zvcm0gYXR0cmlidXRlTmFtZT0idHJhbnNmb3JtIiB0eXBlPSJyb3RhdGUiIHJlcGVhdENvdW50PSJpbmRlZmluaXRlIiBkdXI9IjFzIiB2YWx1ZXM9IjAgNTAgNTA7MzYwIDUwIDUwIiBrZXlUaW1lcz0iMDsxIj48L2FuaW1hdGVUcmFuc2Zvcm0+ICA8L2NpcmNsZT48L3N2Zz4=\\\");\\n  background-size: auto calc(min(50%, 400px));\\n}\",{\"id\":\"p1008\"},{\"id\":\"p1006\"},{\"id\":\"p1007\"}],\"margin\":0,\"sizing_mode\":\"stretch_width\",\"align\":\"start\"}}]}}],\"defs\":[{\"type\":\"model\",\"name\":\"ReactiveHTML1\"},{\"type\":\"model\",\"name\":\"FlexBox1\",\"properties\":[{\"name\":\"align_content\",\"kind\":\"Any\",\"default\":\"flex-start\"},{\"name\":\"align_items\",\"kind\":\"Any\",\"default\":\"flex-start\"},{\"name\":\"flex_direction\",\"kind\":\"Any\",\"default\":\"row\"},{\"name\":\"flex_wrap\",\"kind\":\"Any\",\"default\":\"wrap\"},{\"name\":\"justify_content\",\"kind\":\"Any\",\"default\":\"flex-start\"}]},{\"type\":\"model\",\"name\":\"FloatPanel1\",\"properties\":[{\"name\":\"config\",\"kind\":\"Any\",\"default\":{\"type\":\"map\"}},{\"name\":\"contained\",\"kind\":\"Any\",\"default\":true},{\"name\":\"position\",\"kind\":\"Any\",\"default\":\"right-top\"},{\"name\":\"offsetx\",\"kind\":\"Any\",\"default\":null},{\"name\":\"offsety\",\"kind\":\"Any\",\"default\":null},{\"name\":\"theme\",\"kind\":\"Any\",\"default\":\"primary\"},{\"name\":\"status\",\"kind\":\"Any\",\"default\":\"normalized\"}]},{\"type\":\"model\",\"name\":\"GridStack1\",\"properties\":[{\"name\":\"mode\",\"kind\":\"Any\",\"default\":\"warn\"},{\"name\":\"ncols\",\"kind\":\"Any\",\"default\":null},{\"name\":\"nrows\",\"kind\":\"Any\",\"default\":null},{\"name\":\"allow_resize\",\"kind\":\"Any\",\"default\":true},{\"name\":\"allow_drag\",\"kind\":\"Any\",\"default\":true},{\"name\":\"state\",\"kind\":\"Any\",\"default\":[]}]},{\"type\":\"model\",\"name\":\"drag1\",\"properties\":[{\"name\":\"slider_width\",\"kind\":\"Any\",\"default\":5},{\"name\":\"slider_color\",\"kind\":\"Any\",\"default\":\"black\"},{\"name\":\"value\",\"kind\":\"Any\",\"default\":50}]},{\"type\":\"model\",\"name\":\"click1\",\"properties\":[{\"name\":\"terminal_output\",\"kind\":\"Any\",\"default\":\"\"},{\"name\":\"debug_name\",\"kind\":\"Any\",\"default\":\"\"},{\"name\":\"clears\",\"kind\":\"Any\",\"default\":0}]},{\"type\":\"model\",\"name\":\"FastWrapper1\",\"properties\":[{\"name\":\"object\",\"kind\":\"Any\",\"default\":null},{\"name\":\"style\",\"kind\":\"Any\",\"default\":null}]},{\"type\":\"model\",\"name\":\"NotificationAreaBase1\",\"properties\":[{\"name\":\"js_events\",\"kind\":\"Any\",\"default\":{\"type\":\"map\"}},{\"name\":\"position\",\"kind\":\"Any\",\"default\":\"bottom-right\"},{\"name\":\"_clear\",\"kind\":\"Any\",\"default\":0}]},{\"type\":\"model\",\"name\":\"NotificationArea1\",\"properties\":[{\"name\":\"js_events\",\"kind\":\"Any\",\"default\":{\"type\":\"map\"}},{\"name\":\"notifications\",\"kind\":\"Any\",\"default\":[]},{\"name\":\"position\",\"kind\":\"Any\",\"default\":\"bottom-right\"},{\"name\":\"_clear\",\"kind\":\"Any\",\"default\":0},{\"name\":\"types\",\"kind\":\"Any\",\"default\":[{\"type\":\"map\",\"entries\":[[\"type\",\"warning\"],[\"background\",\"#ffc107\"],[\"icon\",{\"type\":\"map\",\"entries\":[[\"className\",\"fas fa-exclamation-triangle\"],[\"tagName\",\"i\"],[\"color\",\"white\"]]}]]},{\"type\":\"map\",\"entries\":[[\"type\",\"info\"],[\"background\",\"#007bff\"],[\"icon\",{\"type\":\"map\",\"entries\":[[\"className\",\"fas fa-info-circle\"],[\"tagName\",\"i\"],[\"color\",\"white\"]]}]]}]}]},{\"type\":\"model\",\"name\":\"Notification\",\"properties\":[{\"name\":\"background\",\"kind\":\"Any\",\"default\":null},{\"name\":\"duration\",\"kind\":\"Any\",\"default\":3000},{\"name\":\"icon\",\"kind\":\"Any\",\"default\":null},{\"name\":\"message\",\"kind\":\"Any\",\"default\":\"\"},{\"name\":\"notification_type\",\"kind\":\"Any\",\"default\":null},{\"name\":\"_destroyed\",\"kind\":\"Any\",\"default\":false}]},{\"type\":\"model\",\"name\":\"TemplateActions1\",\"properties\":[{\"name\":\"open_modal\",\"kind\":\"Any\",\"default\":0},{\"name\":\"close_modal\",\"kind\":\"Any\",\"default\":0}]},{\"type\":\"model\",\"name\":\"BootstrapTemplateActions1\",\"properties\":[{\"name\":\"open_modal\",\"kind\":\"Any\",\"default\":0},{\"name\":\"close_modal\",\"kind\":\"Any\",\"default\":0}]},{\"type\":\"model\",\"name\":\"MaterialTemplateActions1\",\"properties\":[{\"name\":\"open_modal\",\"kind\":\"Any\",\"default\":0},{\"name\":\"close_modal\",\"kind\":\"Any\",\"default\":0}]}]}};\n",
       "  var render_items = [{\"docid\":\"dd0685a5-04fe-487a-9b86-8c39c583db00\",\"roots\":{\"p1005\":\"d98d61b4-7b32-4208-b73c-11b0953c5501\"},\"root_ids\":[\"p1005\"]}];\n",
       "  var docs = Object.values(docs_json)\n",
       "  if (!docs) {\n",
       "    return\n",
       "  }\n",
       "  const py_version = docs[0].version.replace('rc', '-rc.').replace('.dev', '-dev.')\n",
       "  const is_dev = py_version.indexOf(\"+\") !== -1 || py_version.indexOf(\"-\") !== -1\n",
       "  function embed_document(root) {\n",
       "    var Bokeh = get_bokeh(root)\n",
       "    Bokeh.embed.embed_items_notebook(docs_json, render_items);\n",
       "    for (const render_item of render_items) {\n",
       "      for (const root_id of render_item.root_ids) {\n",
       "\tconst id_el = document.getElementById(root_id)\n",
       "\tif (id_el.children.length && (id_el.children[0].className === 'bk-root')) {\n",
       "\t  const root_el = id_el.children[0]\n",
       "\t  root_el.id = root_el.id + '-rendered'\n",
       "\t}\n",
       "      }\n",
       "    }\n",
       "  }\n",
       "  function get_bokeh(root) {\n",
       "    if (root.Bokeh === undefined) {\n",
       "      return null\n",
       "    } else if (root.Bokeh.version !== py_version && !is_dev) {\n",
       "      if (root.Bokeh.versions === undefined || !root.Bokeh.versions.has(py_version)) {\n",
       "\treturn null\n",
       "      }\n",
       "      return root.Bokeh.versions.get(py_version);\n",
       "    } else if (root.Bokeh.version === py_version) {\n",
       "      return root.Bokeh\n",
       "    }\n",
       "    return null\n",
       "  }\n",
       "  function is_loaded(root) {\n",
       "    var Bokeh = get_bokeh(root)\n",
       "    return (Bokeh != null && Bokeh.Panel !== undefined)\n",
       "  }\n",
       "  if (is_loaded(root)) {\n",
       "    embed_document(root);\n",
       "  } else {\n",
       "    var attempts = 0;\n",
       "    var timer = setInterval(function(root) {\n",
       "      if (is_loaded(root)) {\n",
       "        clearInterval(timer);\n",
       "        embed_document(root);\n",
       "      } else if (document.readyState == \"complete\") {\n",
       "        attempts++;\n",
       "        if (attempts > 200) {\n",
       "          clearInterval(timer);\n",
       "\t  var Bokeh = get_bokeh(root)\n",
       "\t  if (Bokeh == null || Bokeh.Panel == null) {\n",
       "            console.warn(\"Panel: ERROR: Unable to run Panel code because Bokeh or Panel library is missing\");\n",
       "\t  } else {\n",
       "\t    console.warn(\"Panel: WARNING: Attempting to render but not all required libraries could be resolved.\")\n",
       "\t    embed_document(root)\n",
       "\t  }\n",
       "        }\n",
       "      }\n",
       "    }, 25, root)\n",
       "  }\n",
       "})(window);</script>"
      ],
      "text/plain": [
       ":Overlay\n",
       "   .Tiles.I  :Tiles   [x,y]\n",
       "   .Points.I :Points   [Lng,Lat]   (City,Humidity,index,City_ID,Max Temp,Cloudiness,Wind Speed,Country,Date)"
      ]
     },
     "execution_count": 4,
     "metadata": {
      "application/vnd.holoviews_exec.v0+json": {
       "id": "p1005"
      }
     },
     "output_type": "execute_result"
    }
   ],
   "source": [
    "%%capture --no-display\n",
    "\n",
    "# Configure the map plot\n",
    "map_plot_1 = city_data_df.hvplot.points(\n",
    "    \"Lng\",\n",
    "    \"Lat\",\n",
    "    geo = True,\n",
    "    tiles = \"EsriImagery\",\n",
    "    frame_width = 800,\n",
    "    frame_height = 600,\n",
    "    size = \"Humidity\",\n",
    "    scale = 0.5,\n",
    "    color = \"City\",\n",
    "    hover_cols='all'\n",
    ")\n",
    "\n",
    "# Display the map\n",
    "map_plot_1"
   ]
  },
  {
   "cell_type": "markdown",
   "metadata": {},
   "source": [
    "### Step 2: Narrow down the `city_data_df` DataFrame to find your ideal weather condition"
   ]
  },
  {
   "cell_type": "code",
   "execution_count": 5,
   "metadata": {},
   "outputs": [
    {
     "data": {
      "text/html": [
       "<div>\n",
       "<style scoped>\n",
       "    .dataframe tbody tr th:only-of-type {\n",
       "        vertical-align: middle;\n",
       "    }\n",
       "\n",
       "    .dataframe tbody tr th {\n",
       "        vertical-align: top;\n",
       "    }\n",
       "\n",
       "    .dataframe thead th {\n",
       "        text-align: right;\n",
       "    }\n",
       "</style>\n",
       "<table border=\"1\" class=\"dataframe\">\n",
       "  <thead>\n",
       "    <tr style=\"text-align: right;\">\n",
       "      <th></th>\n",
       "      <th>City_ID</th>\n",
       "      <th>City</th>\n",
       "      <th>Lat</th>\n",
       "      <th>Lng</th>\n",
       "      <th>Max Temp</th>\n",
       "      <th>Humidity</th>\n",
       "      <th>Cloudiness</th>\n",
       "      <th>Wind Speed</th>\n",
       "      <th>Country</th>\n",
       "      <th>Date</th>\n",
       "    </tr>\n",
       "  </thead>\n",
       "  <tbody>\n",
       "    <tr>\n",
       "      <th>121</th>\n",
       "      <td>121</td>\n",
       "      <td>dubai</td>\n",
       "      <td>25.2582</td>\n",
       "      <td>55.3047</td>\n",
       "      <td>23.96</td>\n",
       "      <td>57</td>\n",
       "      <td>0</td>\n",
       "      <td>2.06</td>\n",
       "      <td>AE</td>\n",
       "      <td>1701983706</td>\n",
       "    </tr>\n",
       "    <tr>\n",
       "      <th>200</th>\n",
       "      <td>200</td>\n",
       "      <td>ar ruways</td>\n",
       "      <td>24.1103</td>\n",
       "      <td>52.7306</td>\n",
       "      <td>22.57</td>\n",
       "      <td>53</td>\n",
       "      <td>0</td>\n",
       "      <td>3.55</td>\n",
       "      <td>AE</td>\n",
       "      <td>1701983758</td>\n",
       "    </tr>\n",
       "  </tbody>\n",
       "</table>\n",
       "</div>"
      ],
      "text/plain": [
       "     City_ID       City      Lat      Lng  Max Temp  Humidity  Cloudiness  \\\n",
       "121      121      dubai  25.2582  55.3047     23.96        57           0   \n",
       "200      200  ar ruways  24.1103  52.7306     22.57        53           0   \n",
       "\n",
       "     Wind Speed Country        Date  \n",
       "121        2.06      AE  1701983706  \n",
       "200        3.55      AE  1701983758  "
      ]
     },
     "execution_count": 5,
     "metadata": {},
     "output_type": "execute_result"
    }
   ],
   "source": [
    "# Narrow down cities that fit criteria and drop any results with null values\n",
    "\n",
    "ideal_cities_df = city_data_df.loc[\n",
    "    (city_data_df['Max Temp'] < 27) & (city_data_df['Max Temp'] > 21) \\\n",
    "    & (city_data_df['Cloudiness'] == 0) \\\n",
    "    & (city_data_df['Wind Speed'] < 4.5)\n",
    "]\n",
    "\n",
    "# Drop any rows with null values\n",
    "ideal_cities_df = ideal_cities_df.dropna()\n",
    "\n",
    "# Display sample data\n",
    "ideal_cities_df.head()"
   ]
  },
  {
   "cell_type": "markdown",
   "metadata": {},
   "source": [
    "### Step 3: Create a new DataFrame called `hotel_df`."
   ]
  },
  {
   "cell_type": "code",
   "execution_count": 6,
   "metadata": {},
   "outputs": [
    {
     "data": {
      "text/html": [
       "<div>\n",
       "<style scoped>\n",
       "    .dataframe tbody tr th:only-of-type {\n",
       "        vertical-align: middle;\n",
       "    }\n",
       "\n",
       "    .dataframe tbody tr th {\n",
       "        vertical-align: top;\n",
       "    }\n",
       "\n",
       "    .dataframe thead th {\n",
       "        text-align: right;\n",
       "    }\n",
       "</style>\n",
       "<table border=\"1\" class=\"dataframe\">\n",
       "  <thead>\n",
       "    <tr style=\"text-align: right;\">\n",
       "      <th></th>\n",
       "      <th>City</th>\n",
       "      <th>Country</th>\n",
       "      <th>Lat</th>\n",
       "      <th>Lng</th>\n",
       "      <th>Humidity</th>\n",
       "      <th>Hotel Name</th>\n",
       "    </tr>\n",
       "  </thead>\n",
       "  <tbody>\n",
       "    <tr>\n",
       "      <th>121</th>\n",
       "      <td>dubai</td>\n",
       "      <td>AE</td>\n",
       "      <td>25.2582</td>\n",
       "      <td>55.3047</td>\n",
       "      <td>57</td>\n",
       "      <td></td>\n",
       "    </tr>\n",
       "    <tr>\n",
       "      <th>200</th>\n",
       "      <td>ar ruways</td>\n",
       "      <td>AE</td>\n",
       "      <td>24.1103</td>\n",
       "      <td>52.7306</td>\n",
       "      <td>53</td>\n",
       "      <td></td>\n",
       "    </tr>\n",
       "  </tbody>\n",
       "</table>\n",
       "</div>"
      ],
      "text/plain": [
       "          City Country      Lat      Lng  Humidity Hotel Name\n",
       "121      dubai      AE  25.2582  55.3047        57           \n",
       "200  ar ruways      AE  24.1103  52.7306        53           "
      ]
     },
     "execution_count": 6,
     "metadata": {},
     "output_type": "execute_result"
    }
   ],
   "source": [
    "# Use the Pandas copy function to create DataFrame called hotel_df to store the city, country, coordinates, and humidity\n",
    "hotel_df = ideal_cities_df[['City', 'Country', 'Lat', 'Lng', 'Humidity']].copy()\n",
    "\n",
    "# Add an empty column, \"Hotel Name,\" to the DataFrame so you can store the hotel found using the Geoapify API\n",
    "hotel_df['Hotel Name'] = ''\n",
    "\n",
    "# Display sample data\n",
    "hotel_df.head()"
   ]
  },
  {
   "cell_type": "markdown",
   "metadata": {},
   "source": [
    "### Step 4: For each city, use the Geoapify API to find the first hotel located within 10,000 metres of your coordinates."
   ]
  },
  {
   "cell_type": "code",
   "execution_count": 7,
   "metadata": {},
   "outputs": [
    {
     "name": "stdout",
     "output_type": "stream",
     "text": [
      "Starting hotel search\n",
      "dubai - nearest hotel: Holiday Inn Bur Dubai - Embassy District\n",
      "ar ruways - nearest hotel: No hotel found\n"
     ]
    },
    {
     "data": {
      "text/html": [
       "<div>\n",
       "<style scoped>\n",
       "    .dataframe tbody tr th:only-of-type {\n",
       "        vertical-align: middle;\n",
       "    }\n",
       "\n",
       "    .dataframe tbody tr th {\n",
       "        vertical-align: top;\n",
       "    }\n",
       "\n",
       "    .dataframe thead th {\n",
       "        text-align: right;\n",
       "    }\n",
       "</style>\n",
       "<table border=\"1\" class=\"dataframe\">\n",
       "  <thead>\n",
       "    <tr style=\"text-align: right;\">\n",
       "      <th></th>\n",
       "      <th>City</th>\n",
       "      <th>Country</th>\n",
       "      <th>Lat</th>\n",
       "      <th>Lng</th>\n",
       "      <th>Humidity</th>\n",
       "      <th>Hotel Name</th>\n",
       "    </tr>\n",
       "  </thead>\n",
       "  <tbody>\n",
       "    <tr>\n",
       "      <th>121</th>\n",
       "      <td>dubai</td>\n",
       "      <td>AE</td>\n",
       "      <td>25.2582</td>\n",
       "      <td>55.3047</td>\n",
       "      <td>57</td>\n",
       "      <td>Holiday Inn Bur Dubai - Embassy District</td>\n",
       "    </tr>\n",
       "    <tr>\n",
       "      <th>200</th>\n",
       "      <td>ar ruways</td>\n",
       "      <td>AE</td>\n",
       "      <td>24.1103</td>\n",
       "      <td>52.7306</td>\n",
       "      <td>53</td>\n",
       "      <td>No hotel found</td>\n",
       "    </tr>\n",
       "  </tbody>\n",
       "</table>\n",
       "</div>"
      ],
      "text/plain": [
       "          City Country      Lat      Lng  Humidity  \\\n",
       "121      dubai      AE  25.2582  55.3047        57   \n",
       "200  ar ruways      AE  24.1103  52.7306        53   \n",
       "\n",
       "                                   Hotel Name  \n",
       "121  Holiday Inn Bur Dubai - Embassy District  \n",
       "200                            No hotel found  "
      ]
     },
     "execution_count": 7,
     "metadata": {},
     "output_type": "execute_result"
    }
   ],
   "source": [
    "# Set parameters to search for a hotel\n",
    "radius = 10000\n",
    "params = {\n",
    "    \"apiKey\":geoapify_key,\n",
    "    \"categories\": \"accommodation.hotel\"\n",
    "    }\n",
    "\n",
    "# Print a message to follow up the hotel search\n",
    "print(\"Starting hotel search\")\n",
    "\n",
    "# Iterate through the hotel_df DataFrame\n",
    "for index, row in hotel_df.iterrows():\n",
    "    # get latitude, longitude from the DataFrame\n",
    "    # Extract lat/lon\n",
    "    latitude = row['Lat']\n",
    "    longitude = row['Lng']\n",
    "\n",
    "        \n",
    "    # Add filter and bias parameters with the current city's latitude and longitude to the params dictionary\n",
    "    params[\"filter\"] = f\"circle:{longitude},{latitude},{radius}\"\n",
    "    params[\"bias\"] = f\"proximity:{longitude},{latitude}\"\n",
    "    \n",
    "    # Set base URL\n",
    "    base_url = \"https://api.geoapify.com/v2/places\"\n",
    "\n",
    "\n",
    "    # Make and API request using the params dictionaty\n",
    "    name_address = requests.get(base_url, params=params)\n",
    "    \n",
    "    # Convert the API response to JSON format\n",
    "    name_address = requests.get(base_url, params=params).json()\n",
    "    \n",
    "    # Grab the first hotel from the results and store the name in the hotel_df DataFrame\n",
    "    try:\n",
    "        hotel_df.loc[index, \"Hotel Name\"] = name_address[\"features\"][0][\"properties\"][\"name\"]\n",
    "    except (KeyError, IndexError):\n",
    "        # If no hotel is found, set the hotel name as \"No hotel found\".\n",
    "        hotel_df.loc[index, \"Hotel Name\"] = \"No hotel found\"\n",
    "        \n",
    "    # Log the search results\n",
    "    print(f\"{hotel_df.loc[index, 'City']} - nearest hotel: {hotel_df.loc[index, 'Hotel Name']}\")\n",
    "\n",
    "# Display sample data\n",
    "hotel_df"
   ]
  },
  {
   "cell_type": "markdown",
   "metadata": {},
   "source": [
    "### Step 5: Add the hotel name and the country as additional information in the hover message for each city in the map."
   ]
  },
  {
   "cell_type": "code",
   "execution_count": 8,
   "metadata": {},
   "outputs": [
    {
     "data": {},
     "metadata": {},
     "output_type": "display_data"
    },
    {
     "data": {
      "application/vnd.holoviews_exec.v0+json": "",
      "text/html": [
       "<div id='p1097'>\n",
       "  <div id=\"cd1f431b-b63a-490b-93c4-669eebc3db67\" data-root-id=\"p1097\" style=\"display: contents;\"></div>\n",
       "</div>\n",
       "<script type=\"application/javascript\">(function(root) {\n",
       "  var docs_json = {\"3ea8c6bc-af89-4012-b7ef-4028e1ecd890\":{\"version\":\"3.2.1\",\"title\":\"Bokeh Application\",\"roots\":[{\"type\":\"object\",\"name\":\"Row\",\"id\":\"p1097\",\"attributes\":{\"name\":\"Row01782\",\"tags\":[\"embedded\"],\"stylesheets\":[\"\\n:host(.pn-loading.pn-arc):before, .pn-loading.pn-arc:before {\\n  background-image: url(\\\"data:image/svg+xml;base64,PHN2ZyB4bWxucz0iaHR0cDovL3d3dy53My5vcmcvMjAwMC9zdmciIHN0eWxlPSJtYXJnaW46IGF1dG87IGJhY2tncm91bmQ6IG5vbmU7IGRpc3BsYXk6IGJsb2NrOyBzaGFwZS1yZW5kZXJpbmc6IGF1dG87IiB2aWV3Qm94PSIwIDAgMTAwIDEwMCIgcHJlc2VydmVBc3BlY3RSYXRpbz0ieE1pZFlNaWQiPiAgPGNpcmNsZSBjeD0iNTAiIGN5PSI1MCIgZmlsbD0ibm9uZSIgc3Ryb2tlPSIjYzNjM2MzIiBzdHJva2Utd2lkdGg9IjEwIiByPSIzNSIgc3Ryb2tlLWRhc2hhcnJheT0iMTY0LjkzMzYxNDMxMzQ2NDE1IDU2Ljk3Nzg3MTQzNzgyMTM4Ij4gICAgPGFuaW1hdGVUcmFuc2Zvcm0gYXR0cmlidXRlTmFtZT0idHJhbnNmb3JtIiB0eXBlPSJyb3RhdGUiIHJlcGVhdENvdW50PSJpbmRlZmluaXRlIiBkdXI9IjFzIiB2YWx1ZXM9IjAgNTAgNTA7MzYwIDUwIDUwIiBrZXlUaW1lcz0iMDsxIj48L2FuaW1hdGVUcmFuc2Zvcm0+ICA8L2NpcmNsZT48L3N2Zz4=\\\");\\n  background-size: auto calc(min(50%, 400px));\\n}\",{\"type\":\"object\",\"name\":\"ImportedStyleSheet\",\"id\":\"p1100\",\"attributes\":{\"url\":\"https://cdn.holoviz.org/panel/1.2.3/dist/css/loading.css\"}},{\"type\":\"object\",\"name\":\"ImportedStyleSheet\",\"id\":\"p1177\",\"attributes\":{\"url\":\"https://cdn.holoviz.org/panel/1.2.3/dist/css/listpanel.css\"}},{\"type\":\"object\",\"name\":\"ImportedStyleSheet\",\"id\":\"p1098\",\"attributes\":{\"url\":\"https://cdn.holoviz.org/panel/1.2.3/dist/bundled/theme/default.css\"}},{\"type\":\"object\",\"name\":\"ImportedStyleSheet\",\"id\":\"p1099\",\"attributes\":{\"url\":\"https://cdn.holoviz.org/panel/1.2.3/dist/bundled/theme/native.css\"}}],\"margin\":0,\"sizing_mode\":\"stretch_width\",\"align\":\"start\",\"children\":[{\"type\":\"object\",\"name\":\"Spacer\",\"id\":\"p1101\",\"attributes\":{\"name\":\"HSpacer01792\",\"stylesheets\":[\"\\n:host(.pn-loading.pn-arc):before, .pn-loading.pn-arc:before {\\n  background-image: url(\\\"data:image/svg+xml;base64,PHN2ZyB4bWxucz0iaHR0cDovL3d3dy53My5vcmcvMjAwMC9zdmciIHN0eWxlPSJtYXJnaW46IGF1dG87IGJhY2tncm91bmQ6IG5vbmU7IGRpc3BsYXk6IGJsb2NrOyBzaGFwZS1yZW5kZXJpbmc6IGF1dG87IiB2aWV3Qm94PSIwIDAgMTAwIDEwMCIgcHJlc2VydmVBc3BlY3RSYXRpbz0ieE1pZFlNaWQiPiAgPGNpcmNsZSBjeD0iNTAiIGN5PSI1MCIgZmlsbD0ibm9uZSIgc3Ryb2tlPSIjYzNjM2MzIiBzdHJva2Utd2lkdGg9IjEwIiByPSIzNSIgc3Ryb2tlLWRhc2hhcnJheT0iMTY0LjkzMzYxNDMxMzQ2NDE1IDU2Ljk3Nzg3MTQzNzgyMTM4Ij4gICAgPGFuaW1hdGVUcmFuc2Zvcm0gYXR0cmlidXRlTmFtZT0idHJhbnNmb3JtIiB0eXBlPSJyb3RhdGUiIHJlcGVhdENvdW50PSJpbmRlZmluaXRlIiBkdXI9IjFzIiB2YWx1ZXM9IjAgNTAgNTA7MzYwIDUwIDUwIiBrZXlUaW1lcz0iMDsxIj48L2FuaW1hdGVUcmFuc2Zvcm0+ICA8L2NpcmNsZT48L3N2Zz4=\\\");\\n  background-size: auto calc(min(50%, 400px));\\n}\",{\"id\":\"p1100\"},{\"id\":\"p1098\"},{\"id\":\"p1099\"}],\"margin\":0,\"sizing_mode\":\"stretch_width\",\"align\":\"start\"}},{\"type\":\"object\",\"name\":\"Figure\",\"id\":\"p1118\",\"attributes\":{\"width\":null,\"height\":null,\"margin\":[5,10],\"sizing_mode\":\"fixed\",\"align\":\"start\",\"x_range\":{\"type\":\"object\",\"name\":\"Range1d\",\"id\":\"p1108\",\"attributes\":{\"tags\":[[[\"Lng\",\"Lng\",null]],[]],\"start\":5849475.989785303,\"end\":6176958.5939132925,\"reset_start\":5849475.989785303,\"reset_end\":6176958.5939132925,\"min_interval\":5}},\"y_range\":{\"type\":\"object\",\"name\":\"Range1d\",\"id\":\"p1109\",\"attributes\":{\"tags\":[[[\"Lat\",\"Lat\",null]],{\"type\":\"map\",\"entries\":[[\"invert_yaxis\",false],[\"autorange\",false]]}],\"start\":2720215.2109683375,\"end\":2954131.3567740438,\"reset_start\":2720215.2109683375,\"reset_end\":2954131.3567740438,\"min_interval\":5}},\"x_scale\":{\"type\":\"object\",\"name\":\"LinearScale\",\"id\":\"p1128\"},\"y_scale\":{\"type\":\"object\",\"name\":\"LinearScale\",\"id\":\"p1129\"},\"title\":{\"type\":\"object\",\"name\":\"Title\",\"id\":\"p1121\",\"attributes\":{\"text_color\":\"black\",\"text_font_size\":\"12pt\"}},\"renderers\":[{\"type\":\"object\",\"name\":\"TileRenderer\",\"id\":\"p1153\",\"attributes\":{\"level\":\"glyph\",\"tile_source\":{\"type\":\"object\",\"name\":\"WMTSTileSource\",\"id\":\"p1149\",\"attributes\":{\"url\":\"https://server.arcgisonline.com/ArcGIS/rest/services/World_Imagery/MapServer/tile/{Z}/{Y}/{X}.jpg\",\"attribution\":\"&copy; <a href=\\\"http://downloads.esri.com/ArcGISOnline/docs/tou_summary.pdf\\\">Esri</a>, Earthstar Geographics\"}}}},{\"type\":\"object\",\"name\":\"GlyphRenderer\",\"id\":\"p1167\",\"attributes\":{\"name\":\"color\",\"data_source\":{\"type\":\"object\",\"name\":\"ColumnDataSource\",\"id\":\"p1156\",\"attributes\":{\"selected\":{\"type\":\"object\",\"name\":\"Selection\",\"id\":\"p1157\",\"attributes\":{\"indices\":[],\"line_indices\":[]}},\"selection_policy\":{\"type\":\"object\",\"name\":\"UnionRenderers\",\"id\":\"p1158\"},\"data\":{\"type\":\"map\",\"entries\":[[\"Lng\",{\"type\":\"ndarray\",\"array\":{\"type\":\"bytes\",\"data\":\"JOi3wjJ8V0E1aaPiXWRWQQ==\"},\"shape\":[2],\"dtype\":\"float64\",\"order\":\"little\"}],[\"Lat\",{\"type\":\"ndarray\",\"array\":{\"type\":\"bytes\",\"data\":\"blKNE7IuRkFgbkM1AxxFQQ==\"},\"shape\":[2],\"dtype\":\"float64\",\"order\":\"little\"}],[\"City\",{\"type\":\"ndarray\",\"array\":[\"dubai\",\"ar ruways\"],\"shape\":[2],\"dtype\":\"object\",\"order\":\"little\"}],[\"index\",{\"type\":\"ndarray\",\"array\":{\"type\":\"bytes\",\"data\":\"eQAAAMgAAAA=\"},\"shape\":[2],\"dtype\":\"int32\",\"order\":\"little\"}],[\"Country\",{\"type\":\"ndarray\",\"array\":[\"AE\",\"AE\"],\"shape\":[2],\"dtype\":\"object\",\"order\":\"little\"}],[\"Humidity\",{\"type\":\"ndarray\",\"array\":{\"type\":\"bytes\",\"data\":\"OQAAADUAAAA=\"},\"shape\":[2],\"dtype\":\"int32\",\"order\":\"little\"}],[\"Hotel_Name\",{\"type\":\"ndarray\",\"array\":[\"Holiday Inn Bur Dubai - Embassy District\",\"No hotel found\"],\"shape\":[2],\"dtype\":\"object\",\"order\":\"little\"}],[\"color\",{\"type\":\"ndarray\",\"array\":[\"dubai\",\"ar ruways\"],\"shape\":[2],\"dtype\":\"object\",\"order\":\"little\"}]]}}},\"view\":{\"type\":\"object\",\"name\":\"CDSView\",\"id\":\"p1168\",\"attributes\":{\"filter\":{\"type\":\"object\",\"name\":\"AllIndices\",\"id\":\"p1169\"}}},\"glyph\":{\"type\":\"object\",\"name\":\"Scatter\",\"id\":\"p1162\",\"attributes\":{\"tags\":[\"apply_ranges\"],\"x\":{\"type\":\"field\",\"field\":\"Lng\"},\"y\":{\"type\":\"field\",\"field\":\"Lat\"},\"size\":{\"type\":\"value\",\"value\":5.477225575051661},\"line_color\":{\"type\":\"field\",\"field\":\"color\",\"transform\":{\"type\":\"object\",\"name\":\"CategoricalColorMapper\",\"id\":\"p1155\",\"attributes\":{\"palette\":[\"#1f77b3\",\"#ff7e0e\"],\"factors\":[\"dubai\",\"ar ruways\"]}}},\"fill_color\":{\"type\":\"field\",\"field\":\"color\",\"transform\":{\"id\":\"p1155\"}},\"hatch_color\":{\"type\":\"field\",\"field\":\"color\",\"transform\":{\"id\":\"p1155\"}}}},\"selection_glyph\":{\"type\":\"object\",\"name\":\"Scatter\",\"id\":\"p1164\",\"attributes\":{\"tags\":[\"apply_ranges\"],\"x\":{\"type\":\"field\",\"field\":\"Lng\"},\"y\":{\"type\":\"field\",\"field\":\"Lat\"},\"size\":{\"type\":\"value\",\"value\":5.477225575051661},\"line_color\":{\"type\":\"field\",\"field\":\"color\",\"transform\":{\"id\":\"p1155\"}},\"fill_color\":{\"type\":\"field\",\"field\":\"color\",\"transform\":{\"id\":\"p1155\"}},\"hatch_color\":{\"type\":\"field\",\"field\":\"color\",\"transform\":{\"id\":\"p1155\"}}}},\"nonselection_glyph\":{\"type\":\"object\",\"name\":\"Scatter\",\"id\":\"p1163\",\"attributes\":{\"tags\":[\"apply_ranges\"],\"x\":{\"type\":\"field\",\"field\":\"Lng\"},\"y\":{\"type\":\"field\",\"field\":\"Lat\"},\"size\":{\"type\":\"value\",\"value\":5.477225575051661},\"line_color\":{\"type\":\"field\",\"field\":\"color\",\"transform\":{\"id\":\"p1155\"}},\"line_alpha\":{\"type\":\"value\",\"value\":0.1},\"fill_color\":{\"type\":\"field\",\"field\":\"color\",\"transform\":{\"id\":\"p1155\"}},\"fill_alpha\":{\"type\":\"value\",\"value\":0.1},\"hatch_color\":{\"type\":\"field\",\"field\":\"color\",\"transform\":{\"id\":\"p1155\"}},\"hatch_alpha\":{\"type\":\"value\",\"value\":0.1}}},\"hover_glyph\":{\"type\":\"object\",\"name\":\"Scatter\",\"id\":\"p1165\",\"attributes\":{\"tags\":[\"apply_ranges\"],\"x\":{\"type\":\"field\",\"field\":\"Lng\"},\"y\":{\"type\":\"field\",\"field\":\"Lat\"},\"size\":{\"type\":\"value\",\"value\":5.477225575051661},\"line_color\":{\"type\":\"field\",\"field\":\"color\",\"transform\":{\"id\":\"p1155\"}},\"fill_color\":{\"type\":\"field\",\"field\":\"color\",\"transform\":{\"id\":\"p1155\"}},\"hatch_color\":{\"type\":\"field\",\"field\":\"color\",\"transform\":{\"id\":\"p1155\"}}}},\"muted_glyph\":{\"type\":\"object\",\"name\":\"Scatter\",\"id\":\"p1166\",\"attributes\":{\"tags\":[\"apply_ranges\"],\"x\":{\"type\":\"field\",\"field\":\"Lng\"},\"y\":{\"type\":\"field\",\"field\":\"Lat\"},\"size\":{\"type\":\"value\",\"value\":5.477225575051661},\"line_color\":{\"type\":\"field\",\"field\":\"color\",\"transform\":{\"id\":\"p1155\"}},\"line_alpha\":{\"type\":\"value\",\"value\":0.2},\"fill_color\":{\"type\":\"field\",\"field\":\"color\",\"transform\":{\"id\":\"p1155\"}},\"fill_alpha\":{\"type\":\"value\",\"value\":0.2},\"hatch_color\":{\"type\":\"field\",\"field\":\"color\",\"transform\":{\"id\":\"p1155\"}},\"hatch_alpha\":{\"type\":\"value\",\"value\":0.2}}}}}],\"toolbar\":{\"type\":\"object\",\"name\":\"Toolbar\",\"id\":\"p1127\",\"attributes\":{\"tools\":[{\"type\":\"object\",\"name\":\"WheelZoomTool\",\"id\":\"p1113\",\"attributes\":{\"tags\":[\"hv_created\"],\"zoom_on_axis\":false,\"zoom_together\":\"none\"}},{\"type\":\"object\",\"name\":\"HoverTool\",\"id\":\"p1117\",\"attributes\":{\"tags\":[\"hv_created\"],\"renderers\":[{\"id\":\"p1167\"}],\"tooltips\":[[\"Lng\",\"$x{custom}\"],[\"Lat\",\"$y{custom}\"],[\"City\",\"@{City}\"],[\"index\",\"@{index}\"],[\"Country\",\"@{Country}\"],[\"Humidity\",\"@{Humidity}\"],[\"Hotel Name\",\"@{Hotel_Name}\"]],\"formatters\":{\"type\":\"map\",\"entries\":[[\"$x\",{\"type\":\"object\",\"name\":\"CustomJSHover\",\"id\":\"p1172\",\"attributes\":{\"code\":\"\\n        const projections = Bokeh.require(\\\"core/util/projections\\\");\\n        const {snap_x, snap_y} = special_vars\\n        const coords = projections.wgs84_mercator.invert(snap_x, snap_y)\\n        return \\\"\\\" + (coords[0]).toFixed(4)\\n    \"}}],[\"$y\",{\"type\":\"object\",\"name\":\"CustomJSHover\",\"id\":\"p1173\",\"attributes\":{\"code\":\"\\n        const projections = Bokeh.require(\\\"core/util/projections\\\");\\n        const {snap_x, snap_y} = special_vars\\n        const coords = projections.wgs84_mercator.invert(snap_x, snap_y)\\n        return \\\"\\\" + (coords[1]).toFixed(4)\\n    \"}}]]}}},{\"type\":\"object\",\"name\":\"SaveTool\",\"id\":\"p1140\"},{\"type\":\"object\",\"name\":\"PanTool\",\"id\":\"p1141\"},{\"type\":\"object\",\"name\":\"BoxZoomTool\",\"id\":\"p1142\",\"attributes\":{\"overlay\":{\"type\":\"object\",\"name\":\"BoxAnnotation\",\"id\":\"p1143\",\"attributes\":{\"syncable\":false,\"level\":\"overlay\",\"visible\":false,\"left_units\":\"canvas\",\"right_units\":\"canvas\",\"bottom_units\":\"canvas\",\"top_units\":\"canvas\",\"line_color\":\"black\",\"line_alpha\":1.0,\"line_width\":2,\"line_dash\":[4,4],\"fill_color\":\"lightgrey\",\"fill_alpha\":0.5}},\"match_aspect\":true}},{\"type\":\"object\",\"name\":\"ResetTool\",\"id\":\"p1144\"}],\"active_drag\":{\"id\":\"p1141\"}}},\"left\":[{\"type\":\"object\",\"name\":\"LinearAxis\",\"id\":\"p1135\",\"attributes\":{\"ticker\":{\"type\":\"object\",\"name\":\"MercatorTicker\",\"id\":\"p1147\",\"attributes\":{\"mantissas\":[1,2,5],\"dimension\":\"lat\"}},\"formatter\":{\"type\":\"object\",\"name\":\"MercatorTickFormatter\",\"id\":\"p1148\",\"attributes\":{\"dimension\":\"lat\"}},\"axis_label\":\"y\",\"major_label_policy\":{\"type\":\"object\",\"name\":\"AllLabels\",\"id\":\"p1138\"}}}],\"right\":[{\"type\":\"object\",\"name\":\"Legend\",\"id\":\"p1170\",\"attributes\":{\"location\":[0,0],\"click_policy\":\"mute\",\"items\":[{\"type\":\"object\",\"name\":\"LegendItem\",\"id\":\"p1171\",\"attributes\":{\"label\":{\"type\":\"field\",\"field\":\"color\"},\"renderers\":[{\"id\":\"p1167\"}]}}]}}],\"below\":[{\"type\":\"object\",\"name\":\"LinearAxis\",\"id\":\"p1130\",\"attributes\":{\"ticker\":{\"type\":\"object\",\"name\":\"MercatorTicker\",\"id\":\"p1145\",\"attributes\":{\"mantissas\":[1,2,5],\"dimension\":\"lon\"}},\"formatter\":{\"type\":\"object\",\"name\":\"MercatorTickFormatter\",\"id\":\"p1146\",\"attributes\":{\"dimension\":\"lon\"}},\"axis_label\":\"x\",\"major_label_policy\":{\"type\":\"object\",\"name\":\"AllLabels\",\"id\":\"p1133\"}}}],\"center\":[{\"type\":\"object\",\"name\":\"Grid\",\"id\":\"p1134\",\"attributes\":{\"axis\":{\"id\":\"p1130\"},\"grid_line_color\":null}},{\"type\":\"object\",\"name\":\"Grid\",\"id\":\"p1139\",\"attributes\":{\"dimension\":1,\"axis\":{\"id\":\"p1135\"},\"grid_line_color\":null}}],\"frame_width\":700,\"frame_height\":500,\"min_border_top\":10,\"min_border_bottom\":10,\"min_border_left\":10,\"min_border_right\":10,\"output_backend\":\"webgl\",\"match_aspect\":true}},{\"type\":\"object\",\"name\":\"Spacer\",\"id\":\"p1175\",\"attributes\":{\"name\":\"HSpacer01795\",\"stylesheets\":[\"\\n:host(.pn-loading.pn-arc):before, .pn-loading.pn-arc:before {\\n  background-image: url(\\\"data:image/svg+xml;base64,PHN2ZyB4bWxucz0iaHR0cDovL3d3dy53My5vcmcvMjAwMC9zdmciIHN0eWxlPSJtYXJnaW46IGF1dG87IGJhY2tncm91bmQ6IG5vbmU7IGRpc3BsYXk6IGJsb2NrOyBzaGFwZS1yZW5kZXJpbmc6IGF1dG87IiB2aWV3Qm94PSIwIDAgMTAwIDEwMCIgcHJlc2VydmVBc3BlY3RSYXRpbz0ieE1pZFlNaWQiPiAgPGNpcmNsZSBjeD0iNTAiIGN5PSI1MCIgZmlsbD0ibm9uZSIgc3Ryb2tlPSIjYzNjM2MzIiBzdHJva2Utd2lkdGg9IjEwIiByPSIzNSIgc3Ryb2tlLWRhc2hhcnJheT0iMTY0LjkzMzYxNDMxMzQ2NDE1IDU2Ljk3Nzg3MTQzNzgyMTM4Ij4gICAgPGFuaW1hdGVUcmFuc2Zvcm0gYXR0cmlidXRlTmFtZT0idHJhbnNmb3JtIiB0eXBlPSJyb3RhdGUiIHJlcGVhdENvdW50PSJpbmRlZmluaXRlIiBkdXI9IjFzIiB2YWx1ZXM9IjAgNTAgNTA7MzYwIDUwIDUwIiBrZXlUaW1lcz0iMDsxIj48L2FuaW1hdGVUcmFuc2Zvcm0+ICA8L2NpcmNsZT48L3N2Zz4=\\\");\\n  background-size: auto calc(min(50%, 400px));\\n}\",{\"id\":\"p1100\"},{\"id\":\"p1098\"},{\"id\":\"p1099\"}],\"margin\":0,\"sizing_mode\":\"stretch_width\",\"align\":\"start\"}}]}}],\"defs\":[{\"type\":\"model\",\"name\":\"ReactiveHTML1\"},{\"type\":\"model\",\"name\":\"FlexBox1\",\"properties\":[{\"name\":\"align_content\",\"kind\":\"Any\",\"default\":\"flex-start\"},{\"name\":\"align_items\",\"kind\":\"Any\",\"default\":\"flex-start\"},{\"name\":\"flex_direction\",\"kind\":\"Any\",\"default\":\"row\"},{\"name\":\"flex_wrap\",\"kind\":\"Any\",\"default\":\"wrap\"},{\"name\":\"justify_content\",\"kind\":\"Any\",\"default\":\"flex-start\"}]},{\"type\":\"model\",\"name\":\"FloatPanel1\",\"properties\":[{\"name\":\"config\",\"kind\":\"Any\",\"default\":{\"type\":\"map\"}},{\"name\":\"contained\",\"kind\":\"Any\",\"default\":true},{\"name\":\"position\",\"kind\":\"Any\",\"default\":\"right-top\"},{\"name\":\"offsetx\",\"kind\":\"Any\",\"default\":null},{\"name\":\"offsety\",\"kind\":\"Any\",\"default\":null},{\"name\":\"theme\",\"kind\":\"Any\",\"default\":\"primary\"},{\"name\":\"status\",\"kind\":\"Any\",\"default\":\"normalized\"}]},{\"type\":\"model\",\"name\":\"GridStack1\",\"properties\":[{\"name\":\"mode\",\"kind\":\"Any\",\"default\":\"warn\"},{\"name\":\"ncols\",\"kind\":\"Any\",\"default\":null},{\"name\":\"nrows\",\"kind\":\"Any\",\"default\":null},{\"name\":\"allow_resize\",\"kind\":\"Any\",\"default\":true},{\"name\":\"allow_drag\",\"kind\":\"Any\",\"default\":true},{\"name\":\"state\",\"kind\":\"Any\",\"default\":[]}]},{\"type\":\"model\",\"name\":\"drag1\",\"properties\":[{\"name\":\"slider_width\",\"kind\":\"Any\",\"default\":5},{\"name\":\"slider_color\",\"kind\":\"Any\",\"default\":\"black\"},{\"name\":\"value\",\"kind\":\"Any\",\"default\":50}]},{\"type\":\"model\",\"name\":\"click1\",\"properties\":[{\"name\":\"terminal_output\",\"kind\":\"Any\",\"default\":\"\"},{\"name\":\"debug_name\",\"kind\":\"Any\",\"default\":\"\"},{\"name\":\"clears\",\"kind\":\"Any\",\"default\":0}]},{\"type\":\"model\",\"name\":\"FastWrapper1\",\"properties\":[{\"name\":\"object\",\"kind\":\"Any\",\"default\":null},{\"name\":\"style\",\"kind\":\"Any\",\"default\":null}]},{\"type\":\"model\",\"name\":\"NotificationAreaBase1\",\"properties\":[{\"name\":\"js_events\",\"kind\":\"Any\",\"default\":{\"type\":\"map\"}},{\"name\":\"position\",\"kind\":\"Any\",\"default\":\"bottom-right\"},{\"name\":\"_clear\",\"kind\":\"Any\",\"default\":0}]},{\"type\":\"model\",\"name\":\"NotificationArea1\",\"properties\":[{\"name\":\"js_events\",\"kind\":\"Any\",\"default\":{\"type\":\"map\"}},{\"name\":\"notifications\",\"kind\":\"Any\",\"default\":[]},{\"name\":\"position\",\"kind\":\"Any\",\"default\":\"bottom-right\"},{\"name\":\"_clear\",\"kind\":\"Any\",\"default\":0},{\"name\":\"types\",\"kind\":\"Any\",\"default\":[{\"type\":\"map\",\"entries\":[[\"type\",\"warning\"],[\"background\",\"#ffc107\"],[\"icon\",{\"type\":\"map\",\"entries\":[[\"className\",\"fas fa-exclamation-triangle\"],[\"tagName\",\"i\"],[\"color\",\"white\"]]}]]},{\"type\":\"map\",\"entries\":[[\"type\",\"info\"],[\"background\",\"#007bff\"],[\"icon\",{\"type\":\"map\",\"entries\":[[\"className\",\"fas fa-info-circle\"],[\"tagName\",\"i\"],[\"color\",\"white\"]]}]]}]}]},{\"type\":\"model\",\"name\":\"Notification\",\"properties\":[{\"name\":\"background\",\"kind\":\"Any\",\"default\":null},{\"name\":\"duration\",\"kind\":\"Any\",\"default\":3000},{\"name\":\"icon\",\"kind\":\"Any\",\"default\":null},{\"name\":\"message\",\"kind\":\"Any\",\"default\":\"\"},{\"name\":\"notification_type\",\"kind\":\"Any\",\"default\":null},{\"name\":\"_destroyed\",\"kind\":\"Any\",\"default\":false}]},{\"type\":\"model\",\"name\":\"TemplateActions1\",\"properties\":[{\"name\":\"open_modal\",\"kind\":\"Any\",\"default\":0},{\"name\":\"close_modal\",\"kind\":\"Any\",\"default\":0}]},{\"type\":\"model\",\"name\":\"BootstrapTemplateActions1\",\"properties\":[{\"name\":\"open_modal\",\"kind\":\"Any\",\"default\":0},{\"name\":\"close_modal\",\"kind\":\"Any\",\"default\":0}]},{\"type\":\"model\",\"name\":\"MaterialTemplateActions1\",\"properties\":[{\"name\":\"open_modal\",\"kind\":\"Any\",\"default\":0},{\"name\":\"close_modal\",\"kind\":\"Any\",\"default\":0}]}]}};\n",
       "  var render_items = [{\"docid\":\"3ea8c6bc-af89-4012-b7ef-4028e1ecd890\",\"roots\":{\"p1097\":\"cd1f431b-b63a-490b-93c4-669eebc3db67\"},\"root_ids\":[\"p1097\"]}];\n",
       "  var docs = Object.values(docs_json)\n",
       "  if (!docs) {\n",
       "    return\n",
       "  }\n",
       "  const py_version = docs[0].version.replace('rc', '-rc.').replace('.dev', '-dev.')\n",
       "  const is_dev = py_version.indexOf(\"+\") !== -1 || py_version.indexOf(\"-\") !== -1\n",
       "  function embed_document(root) {\n",
       "    var Bokeh = get_bokeh(root)\n",
       "    Bokeh.embed.embed_items_notebook(docs_json, render_items);\n",
       "    for (const render_item of render_items) {\n",
       "      for (const root_id of render_item.root_ids) {\n",
       "\tconst id_el = document.getElementById(root_id)\n",
       "\tif (id_el.children.length && (id_el.children[0].className === 'bk-root')) {\n",
       "\t  const root_el = id_el.children[0]\n",
       "\t  root_el.id = root_el.id + '-rendered'\n",
       "\t}\n",
       "      }\n",
       "    }\n",
       "  }\n",
       "  function get_bokeh(root) {\n",
       "    if (root.Bokeh === undefined) {\n",
       "      return null\n",
       "    } else if (root.Bokeh.version !== py_version && !is_dev) {\n",
       "      if (root.Bokeh.versions === undefined || !root.Bokeh.versions.has(py_version)) {\n",
       "\treturn null\n",
       "      }\n",
       "      return root.Bokeh.versions.get(py_version);\n",
       "    } else if (root.Bokeh.version === py_version) {\n",
       "      return root.Bokeh\n",
       "    }\n",
       "    return null\n",
       "  }\n",
       "  function is_loaded(root) {\n",
       "    var Bokeh = get_bokeh(root)\n",
       "    return (Bokeh != null && Bokeh.Panel !== undefined)\n",
       "  }\n",
       "  if (is_loaded(root)) {\n",
       "    embed_document(root);\n",
       "  } else {\n",
       "    var attempts = 0;\n",
       "    var timer = setInterval(function(root) {\n",
       "      if (is_loaded(root)) {\n",
       "        clearInterval(timer);\n",
       "        embed_document(root);\n",
       "      } else if (document.readyState == \"complete\") {\n",
       "        attempts++;\n",
       "        if (attempts > 200) {\n",
       "          clearInterval(timer);\n",
       "\t  var Bokeh = get_bokeh(root)\n",
       "\t  if (Bokeh == null || Bokeh.Panel == null) {\n",
       "            console.warn(\"Panel: ERROR: Unable to run Panel code because Bokeh or Panel library is missing\");\n",
       "\t  } else {\n",
       "\t    console.warn(\"Panel: WARNING: Attempting to render but not all required libraries could be resolved.\")\n",
       "\t    embed_document(root)\n",
       "\t  }\n",
       "        }\n",
       "      }\n",
       "    }, 25, root)\n",
       "  }\n",
       "})(window);</script>"
      ],
      "text/plain": [
       ":Overlay\n",
       "   .Tiles.I  :Tiles   [x,y]\n",
       "   .Points.I :Points   [Lng,Lat]   (City,index,Country,Humidity,Hotel Name)"
      ]
     },
     "execution_count": 8,
     "metadata": {
      "application/vnd.holoviews_exec.v0+json": {
       "id": "p1097"
      }
     },
     "output_type": "execute_result"
    }
   ],
   "source": [
    "%%capture --no-display\n",
    "\n",
    "# Configure the map plot\n",
    "map_plot_2 = hotel_df.hvplot.points(\n",
    "    \"Lng\",\n",
    "    \"Lat\",\n",
    "    geo = True,\n",
    "    tiles = \"EsriImagery\",\n",
    "    frame_width = 700,\n",
    "    frame_height = 500,\n",
    "    scale = 0.5,\n",
    "    color = \"City\",\n",
    "    hover_cols='all'\n",
    ")\n",
    "\n",
    "# Display the map\n",
    "map_plot_2"
   ]
  },
  {
   "cell_type": "code",
   "execution_count": null,
   "metadata": {},
   "outputs": [],
   "source": []
  }
 ],
 "metadata": {
  "kernelspec": {
   "display_name": "Python 3 (ipykernel)",
   "language": "python",
   "name": "python3"
  },
  "language_info": {
   "codemirror_mode": {
    "name": "ipython",
    "version": 3
   },
   "file_extension": ".py",
   "mimetype": "text/x-python",
   "name": "python",
   "nbconvert_exporter": "python",
   "pygments_lexer": "ipython3",
   "version": "3.10.13"
  },
  "latex_envs": {
   "LaTeX_envs_menu_present": true,
   "autoclose": false,
   "autocomplete": true,
   "bibliofile": "biblio.bib",
   "cite_by": "apalike",
   "current_citInitial": 1,
   "eqLabelWithNumbers": true,
   "eqNumInitial": 1,
   "hotkeys": {
    "equation": "Ctrl-E",
    "itemize": "Ctrl-I"
   },
   "labels_anchors": false,
   "latex_user_defs": false,
   "report_style_numbering": false,
   "user_envs_cfg": false
  }
 },
 "nbformat": 4,
 "nbformat_minor": 4
}
